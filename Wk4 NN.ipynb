{
 "cells": [
  {
   "cell_type": "markdown",
   "metadata": {},
   "source": [
    "**Week 4: Neural Networks: Representation**<br>\n",
    "Source: https://www.coursera.org/learn/machine-learning/home/week/4"
   ]
  },
  {
   "cell_type": "markdown",
   "metadata": {},
   "source": [
    "# Neural Networks #"
   ]
  },
  {
   "cell_type": "markdown",
   "metadata": {},
   "source": [
    "## Model Representation I ##"
   ]
  },
  {
   "cell_type": "markdown",
   "metadata": {},
   "source": [
    "**Introduction**"
   ]
  },
  {
   "cell_type": "markdown",
   "metadata": {},
   "source": [
    "Let's examine how we will represent a **hypothesis function** using **neural networks**. \n",
    "\n",
    "At a very simple level, neurons are basically computational units that take **inputs (dendrites)** as electrical inputs (called \"spikes\") that are channeled to **outputs (axons )**. In our model, our dendrites are like the input features $x_1\\cdots x_n$, and the output is the result of our hypothesis function. \n",
    "\n",
    "In this model our $x_0$ input node is sometimes called the **\"bias unit.\"** It is always **equal to 1**. In neural networks, we use the same logistic function as in classification, $\\dfrac{1}{1 + e^{-\\theta^Tx}}$, yet we sometimes call it a **sigmoid (logistic) activation function**. In this situation, our $\\theta$ parameters are sometimes called **\"weights\"**.\n",
    "\n",
    "Visually, a simplistic representation looks like:\n",
    "> $x={\\begin{bmatrix} x_0 \\\\ x_1 \\\\ x_2 \\end{bmatrix}} \\rightarrow {\\begin{bmatrix} \\end{bmatrix}} \\rightarrow h_\\theta(x)$"
   ]
  },
  {
   "cell_type": "markdown",
   "metadata": {},
   "source": [
    "Our input nodes (layer 1), also known as the **\"input layer\"**, go into another node **(layer 2)**, which finally outputs the hypothesis function, known as the **\"output layer\"**.\n",
    "\n",
    "We can have intermediate layers of nodes between the input and output layers called the **\"hidden layers.\"**\n",
    "\n",
    "In this example, we label these intermediate or \"hidden\" layer nodes $a^2_0 \\cdots a^2_n$ and call them **activation units.\"**"
   ]
  },
  {
   "cell_type": "markdown",
   "metadata": {},
   "source": [
    "**Example:**"
   ]
  },
  {
   "cell_type": "markdown",
   "metadata": {},
   "source": [
    "> $a_i^{(j)}$ = \"activation\" of unit $i$ in layer $j$ <br>\n",
    "> $\\Theta^{(j)}$ = matrix of weights controlling function mapping from layer $j$ to layer $j+1$"
   ]
  },
  {
   "cell_type": "markdown",
   "metadata": {},
   "source": [
    "If we had one hidden layer, it would look like:\n",
    "> $x = {\\begin{bmatrix} x_0 \\\\ x_1 \\\\ x_2 \\\\x_3 \\end{bmatrix}} \\rightarrow {\\begin{bmatrix} a_1^{(2)} \\\\ a_2^{(2)} \\\\ a_3^{(2)} \\end{bmatrix}} \\rightarrow h_\\theta(x) $"
   ]
  },
  {
   "cell_type": "markdown",
   "metadata": {},
   "source": [
    "The values for each of the \"activation\" nodes is obtained as follows:\n",
    ">- $a_1^{(2)} = g(\\Theta_{10}^{(1)}x_0 + \\Theta_{11}^{(1)}x_1 + \\Theta_{12}^{(1)}x_2 + \\Theta_{13}^{(1)}x_3)$ <br>\n",
    ">- $a_2^{(2)} = g(\\Theta_{20}^{(1)}x_0 + \\Theta_{21}^{(1)}x_1 + \\Theta_{22}^{(1)}x_2 + \\Theta_{23}^{(1)}x_3)$ <br>\n",
    ">- $a_3^{(2)} = g(\\Theta_{30}^{(1)}x_0 + \\Theta_{31}^{(1)}x_1 + \\Theta_{32}^{(1)}x_2 + \\Theta_{33}^{(1)}x_3)$ <br>\n",
    "<br>\n",
    ">- $h_\\Theta(x) = a_1^{(3)} = g(\\Theta_{10}^{(2)}a_0^{(2)} + \\Theta_{11}^{(2)}a_1^{(2)} + \\Theta_{12}^{(2)}a_2^{(2)} + \\Theta_{13}^{(2)}a_3^{(2)})$ "
   ]
  },
  {
   "cell_type": "markdown",
   "metadata": {},
   "source": [
    "This is saying that we compute our activation nodes by using a **3×4 matrix of parameters**. We apply each row of the parameters to our inputs to obtain the value for one activation node. Our hypothesis output is the logistic function applied to the sum of the values of our activation nodes, which have been multiplied by yet another parameter matrix $\\Theta^{(2)}$ containing the weights for our second layer of nodes.\n",
    "\n",
    "Each layer gets its own matrix of weights, $\\Theta^{(j)}$\n",
    "\n",
    "The dimensions of these matrices of weights is determined as follows:\n",
    "\n",
    "If network has $s_j$ units in layer $j$ and $s_{j+1}$ units in layer $j+1$, then $\\Theta^{(j)}$ will be of dimension $s_{j+1} \\times (s_j + 1)$.\n",
    "\n",
    "The +1 comes from the addition in $\\Theta^{(j)}$ of the \"bias nodes,\" $x_0$ and $\\Theta_0^{(j)}$. In other words the output nodes will not include the bias nodes while the inputs will. The following image summarizes our model representation:"
   ]
  },
  {
   "cell_type": "markdown",
   "metadata": {},
   "source": [
    "![](_Images/NN1.png)"
   ]
  },
  {
   "cell_type": "markdown",
   "metadata": {},
   "source": [
    "Example: If layer 1 has 2 input nodes and layer 2 has 4 activation nodes. Dimension of $\\Theta^{(1)}$ is going to be 4×3 where $s_j = $2 and $s_{j+1} = 4$ so $s_{j+1} \\times (s_j + 1) = 4 \\times 3$"
   ]
  },
  {
   "cell_type": "markdown",
   "metadata": {},
   "source": [
    "## Model Representation II ##"
   ]
  },
  {
   "cell_type": "markdown",
   "metadata": {},
   "source": [
    "To re-iterate, the following is an example of a neural network:\n",
    "> $a_1^{(2)} = g(\\Theta_{10}^{(1)}x_0 + \\Theta_{11}^{(1)}x_1 + \\Theta_{12}^{(1)}x_2 + \\Theta_{13}^{(1)}x_3)$ <br>\n",
    "> $a_2^{(2)} = g(\\Theta_{20}^{(1)}x_0 + \\Theta_{21}^{(1)}x_1 + \\Theta_{22}^{(1)}x_2 + \\Theta_{23}^{(1)}x_3)$ <br>\n",
    "> $a_3^{(2)} = g(\\Theta_{30}^{(1)}x_0 + \\Theta_{31}^{(1)}x_1 + \\Theta_{32}^{(1)}x_2 + \\Theta_{33}^{(1)}x_3)$ <br>\n",
    "<br>\n",
    "> $h_\\Theta(x) = a_1^{(3)} = g(\\Theta_{10}^{(2)}a_0^{(2)} + \\Theta_{11}^{(2)}a_1^{(2)} + \\Theta_{12}^{(2)}a_2^{(2)} + \\Theta_{13}^{(2)}a_3^{(2)})$ "
   ]
  },
  {
   "cell_type": "markdown",
   "metadata": {},
   "source": [
    "In this section we'll do a vectorized implementation of the above functions. We're going to define a new variable $z_k^{(j)}$ that encompasses the parameters inside our g function. In our previous example if we replaced by the variable z for all the parameters we would get:\n",
    "> $a_1^{(2)} = g(z_1^{(2)})$<br>\n",
    "> $a_2^{(2)} = g(z_2^{(2)})$<br>\n",
    "> $a_3^{(2)} = g(z_3^{(2)})$"
   ]
  },
  {
   "cell_type": "markdown",
   "metadata": {},
   "source": [
    "> $z_1^{(2)} = \\Theta_{10}^{(1)}x_0 + \\Theta_{11}^{(1)}x_1 + \\Theta_{12}^{(1)}x_2 + \\Theta_{13}^{(1)}x_3$<br>\n",
    "> $z_2^{(2)} = \\Theta_{20}^{(1)}x_0 + \\Theta_{21}^{(1)}x_1 + \\Theta_{22}^{(1)}x_2 + \\Theta_{23}^{(1)}x_3$<br>\n",
    "> $z_3^{(2)} = \\Theta_{30}^{(1)}x_0 + \\Theta_{31}^{(1)}x_1 + \\Theta_{32}^{(1)}x_2 + \\Theta_{33}^{(1)}x_3$"
   ]
  },
  {
   "cell_type": "markdown",
   "metadata": {},
   "source": [
    "> $z^{(2)}  \n",
    "=\\begin{bmatrix} z_1^{(2)} \\\\ z_2^{(2)} \\\\ z_3^{(2)} \\end{bmatrix} \n",
    "= \\begin{bmatrix} \n",
    "\\Theta_{10}^{(1)} & \\Theta_{11}^{(1)} & \\Theta_{12}^{(1)} & \\Theta_{13}^{(1)} \\\\ \n",
    "\\Theta_{20}^{(1)} & \\Theta_{21}^{(1)} & \\Theta_{22}^{(1)} & \\Theta_{23}^{(1)} \\\\ \n",
    "\\Theta_{30}^{(1)} & \\Theta_{31}^{(1)} & \\Theta_{32}^{(1)} & \\Theta_{33}^{(1)} \n",
    "\\end{bmatrix} \n",
    "\\; {\\begin{bmatrix} x_0 \\\\ x_1 \\\\ x_2\\\\ x_3 \\end{bmatrix}} \n",
    "= \\Theta^{(1)}x = \\Theta^{(1)}a^{(1)}$"
   ]
  },
  {
   "cell_type": "markdown",
   "metadata": {},
   "source": [
    "> $a^{(2)}  \n",
    "=\\begin{bmatrix} a_1^{(2)} \\\\ a_2^{(2)} \\\\ a_3^{(2)} \\end{bmatrix} \n",
    "= g(z^{(2)})\n",
    "=\\begin{bmatrix} g(z_1^{(2)}) \\\\ g(z_2^{(2)}) \\\\ g(z_3^{(2)}) \\end{bmatrix}  $"
   ]
  },
  {
   "cell_type": "markdown",
   "metadata": {},
   "source": [
    "In other words, for layer j=2 and node k, the variable z will be:\n",
    "> $z_k^{(2)} = \\Theta_{k,0}^{(1)}x_0 + \\Theta_{k,1}^{(1)}x_1 + \\cdots + \\Theta_{k,n}^{(1)}x_n$"
   ]
  },
  {
   "cell_type": "markdown",
   "metadata": {},
   "source": [
    "The vector representation of $x$ and $z^{j}$ is:\n",
    "> $x = {\\begin{bmatrix} x_0 \\\\ x_1 \\\\ \\cdots \\\\ x_n \\end{bmatrix}} = a^{(1)} = {\\begin{bmatrix} a_0^{(1)} \\\\ a_1^{(1)} \\\\ \\cdots \\\\ a_n^{(1)} \\end{bmatrix}}$"
   ]
  },
  {
   "cell_type": "markdown",
   "metadata": {},
   "source": [
    "> $z^{(j)} = {\\begin{bmatrix} z_1^{(j)} \\\\ z_2^{(j)} \\\\ \\cdots \\\\ z_m^{(j)} \\end{bmatrix}} = {\\begin{bmatrix} \\Theta_{10}^{(j-1)} & \\Theta_{11}^{(j-1)} & \\dots & \\Theta_{1n}^{(j-1)} \\\\ \\Theta_{20}^{(j-1)} & \\Theta_{21}^{(j-1)} & \\dots & \\Theta_{2n}^{(j-1)} \\\\ \\cdots & \\cdots & \\ddots & \\cdots \\\\ \\Theta_{m0}^{(j-1)} & \\Theta_{m1}^{(j-1)} & \\dots & \\Theta_{mn}^{(j-1)} \\end{bmatrix}} \\; {\\begin{bmatrix} x_0 \\\\ x_1 \\\\ \\cdots \\\\ x_n \\end{bmatrix}} = \\Theta^{(j-1)}x = \\Theta^{(j-1)}a^{(j-1)}, \\: \\text{where } m=s_j$"
   ]
  },
  {
   "cell_type": "markdown",
   "metadata": {},
   "source": [
    "We are multiplying our matrix $\\Theta^{(j-1)}$ with dimensions $s_j\\times (n+1)$ (where $s_j$ is the number of our activation nodes) by our vector $a^{(j-1)}$ with height (n+1). This gives us our vector $z^{(j)}$ with height $s_j$. Now we can get a vector of our activation nodes for layer j as follows:\n",
    "\n",
    "> $a^{(j)} = g(z^{(j)})$\n",
    "\n",
    "> Octave Code:\n",
    "\n",
    ">```Octave\n",
    "a3 = sigmoid(z3);     % shape(num_labels, m)\n",
    "```\n",
    "\n",
    "Where our function g can be applied element-wise to our vector $z^{(j)}$"
   ]
  },
  {
   "cell_type": "markdown",
   "metadata": {},
   "source": [
    "We can then add a bias unit (equal to 1) to layer j after we have computed $a^{(j)}$. This will be element $a_0^{(j)}$ and will be equal to 1. To compute our final hypothesis, let's first compute another z vector:\n",
    "\n",
    "> $z^{(j+1)} = \\Theta^{(j)}a^{(j)}$\n",
    "\n",
    "> Octave Code:\n",
    ">```Octave\n",
    "z3 = Theta2 * a2;  % (num_labels, hidden_lyr_size + 1) x (hidden_lyr_size + 1, m)\n",
    "```"
   ]
  },
  {
   "cell_type": "markdown",
   "metadata": {},
   "source": [
    "We get this final z vector by multiplying the next theta matrix after $\\Theta^{(j-1)}$ with the values of all the activation nodes we just got. This last theta matrix $\\Theta^{(j)}$ will have only one row which is multiplied by one column $a^{(j)}$ so that our result is a **single number**. We then get our final result with:\n",
    "\n",
    "> $h_\\Theta(x) = a^{(j+1)} = g(z^{(j+1)})$\n",
    "\n",
    "> Octave Code:\n",
    ">```Octave\n",
    "a3 = sigmoid(z3);     % shape(num_labels, m)\n",
    "```"
   ]
  },
  {
   "cell_type": "markdown",
   "metadata": {},
   "source": [
    "Notice that in this **last step**, between layer j and layer j+1, we are doing **exactly the same thing** as we did in logistic regression. Adding all these intermediate layers in neural networks allows us to more elegantly produce interesting and more complex non-linear hypotheses."
   ]
  },
  {
   "cell_type": "markdown",
   "metadata": {},
   "source": [
    "# Applications #"
   ]
  },
  {
   "cell_type": "markdown",
   "metadata": {},
   "source": [
    "## Examples and Intuitions I ##"
   ]
  },
  {
   "cell_type": "markdown",
   "metadata": {},
   "source": [
    "A simple example of applying neural networks is by predicting $x_1$ AND $x_2$, which is the logical **'and' operator** and is only true if both $x_1$ and $x_2$ The graph of our functions will look like:\n",
    "> ${\\begin{bmatrix} x_0 \\\\ x_1 \\\\ x_2 \\end{bmatrix}} \\rightarrow {\\begin{bmatrix} g(z^{(2)}) \\end{bmatrix}} \\rightarrow h_\\theta(x) $\n",
    "\n",
    "Remember that $x_0$ is our bias variable and is always 1."
   ]
  },
  {
   "cell_type": "markdown",
   "metadata": {},
   "source": [
    "Let's set our first theta matrix as:\n",
    "> $\\Theta^{(1)} ={\\begin{bmatrix} -30 & 20 & 20 \\end{bmatrix}}$\n",
    "\n",
    "This will cause the output of our hypothesis to only be positive if both $x_1$ and $x_2$ are 1. In other words:\n",
    ">$h_\\Theta(x) = g(-30 + 20x_1 + 20x_2)$<br>\n",
    "<br>\n",
    ">$x_1 = 0 \\; and \\; x_2 = 0 \\; then \\; g(-30) \\approx 0$<br>\n",
    ">$x_1 = 0 \\; and \\; x_2 = 0 \\; then \\; g(-10) \\approx 0$<br>\n",
    ">$x_1 = 0 \\; and \\; x_2 = 0 \\; then \\; g(-10) \\approx 0$<br>\n",
    ">$x_1 = 0 \\; and \\; x_2 = 0 \\; then \\; g(10) \\approx 1$\n",
    "\n",
    "So we have constructed one of the fundamental operations in computers by using a small neural network rather than using an actual AND gate. Neural networks can also be used to simulate all the other logical gates. The following is an example of the logical operator 'OR', meaning either $x_1$ is true or $x_2$ is true, or both:"
   ]
  },
  {
   "cell_type": "markdown",
   "metadata": {},
   "source": [
    "![](_Images/NN2.png)"
   ]
  },
  {
   "cell_type": "markdown",
   "metadata": {},
   "source": [
    "Where g(z) is the following:"
   ]
  },
  {
   "cell_type": "markdown",
   "metadata": {},
   "source": [
    "![](_Images/NN3.png)"
   ]
  },
  {
   "cell_type": "markdown",
   "metadata": {},
   "source": [
    "## Examples and Intuitions II ##"
   ]
  },
  {
   "cell_type": "markdown",
   "metadata": {},
   "source": [
    "The $\\Theta^{(1)}$ matrices for AND, NOR, and OR are:\n",
    "> AND:\n",
    ">\n",
    "> - $\\Theta^{(1)} ={\\begin{bmatrix} -30 & 20 & 20 \\end{bmatrix}}$\n",
    ">\n",
    "> NOR:\n",
    ">\n",
    "> - $\\Theta^{(1)} ={\\begin{bmatrix} -10 & -20 & -20 \\end{bmatrix}}$\n",
    ">\n",
    "> OR:\n",
    ">\n",
    "> - $\\Theta^{(1)} ={\\begin{bmatrix} -10 & 20 & 20 \\end{bmatrix}}$\n",
    "\n",
    "We can combine these to get the XNOR $\\rightarrow$ ($x_1$ AND $x_2$) OR ($x_1$ NOR $x_2$) logical operator (which gives 1 if $x_1$ and $x_2$ are both 0 or both 1).\n",
    "> ${\\begin{bmatrix} x_0 \\\\ x_1 \\\\ x_2 \\end{bmatrix}} \\rightarrow {\\begin{bmatrix} a_1^{(2)} \\\\ a_2^{(2)} \\end{bmatrix}} \\rightarrow {\\begin{bmatrix} a^{(3)} \\end{bmatrix}} \\rightarrow h_\\Theta(x)$\n",
    "\n",
    "For the transition between the first and second layer, we'll use a $Θ^{(1)}$ matrix that combines the values for AND and NOR:\n",
    ">$\\Theta^{(1)} ={\\begin{bmatrix} -30 & 20 & 20 \\\\ 10 & -20 & -20 \\end{bmatrix}}$\n",
    "\n",
    "For the transition between the second and third layer, we'll use a $Θ^{(2)}$ matrix that uses the value for OR:\n",
    ">$\\Theta^{(2)} ={\\begin{bmatrix} -10 & 20 & 20 \\end{bmatrix}}$\n",
    "\n",
    "Let's write out the values for all our nodes:\n",
    ">$a^{(2)} = g(\\Theta^{(1)} \\cdot x)$<br>\n",
    ">$a^{(3)} = g(\\Theta^{(2)} \\cdot a^{(2)})$<br>\n",
    ">$h_\\Theta(x) = a^{(3)}$\n",
    "\n",
    "And there we have the XNOR operator using a hidden layer with two nodes! The following summarizes the above algorithm:"
   ]
  },
  {
   "cell_type": "markdown",
   "metadata": {},
   "source": [
    "![](_Images/NN4.png)"
   ]
  },
  {
   "cell_type": "markdown",
   "metadata": {},
   "source": [
    "## Multiclass Classification ##"
   ]
  },
  {
   "cell_type": "markdown",
   "metadata": {},
   "source": [
    "To classify data into multiple classes, we let our hypothesis function return a **vector of values**. Say we wanted to classify our data into one of four categories. We will use the following example to see how this classification is done. This algorithm takes as input an image and classifies it accordingly:"
   ]
  },
  {
   "cell_type": "markdown",
   "metadata": {},
   "source": [
    "![](_Images/NN5.png)"
   ]
  },
  {
   "cell_type": "markdown",
   "metadata": {},
   "source": [
    "We can define our set of resulting classes as y:\n",
    "> $y^{(i)} = {\\begin{bmatrix} 1 \\\\ 0 \\\\ 0 \\\\ 0 \\end{bmatrix}} \\text{  or  } {\\begin{bmatrix} 0 \\\\ 1 \\\\ 0 \\\\ 0 \\end{bmatrix}} \\text{  or  } {\\begin{bmatrix} 0 \\\\ 0 \\\\ 1 \\\\ 0 \\end{bmatrix}} \\text{  or  } {\\begin{bmatrix} 0 \\\\ 0 \\\\ 0 \\\\ 1 \\end{bmatrix}}$\n",
    "\n",
    "considering m samples: \n",
    "\n",
    "\n",
    "Each $y^{(i)}$ represents a different image corresponding to either a car, pedestrian, truck, or motorcycle. The inner layers, each provide us with some new information which leads to our final hypothesis function. The setup looks like:\n",
    ">$x={\\begin{bmatrix} x_0 \\\\ x_1 \\\\ x_2 \\\\ \\dots \\\\ x_n \\end{bmatrix}} \\rightarrow {\\begin{bmatrix} a_0^{(2)} \\\\ a_1^{(2)} \\\\ a_2^{(2)} \\\\ \\dots \\end{bmatrix}} \\rightarrow {\\begin{bmatrix} a_0^{(3)} \\\\ a_1^{(3)} \\\\ a_2^{(3)} \\\\ \\dots \\end{bmatrix}} \\rightarrow \\dots {\\begin{bmatrix} h_\\Theta(x)_1 \\\\ h_\\Theta(x)_2 \\\\ h_\\Theta(x)_3 \\\\ h_\\Theta(x)_4 \\end{bmatrix}}$\n",
    "\n",
    "Our resulting hypothesis for one set of inputs may look like:\n",
    "> $h_\\Theta(x) = {\\begin{bmatrix} 0 \\\\ 0 \\\\ 1 \\\\ 0 \\end{bmatrix}}$\n",
    "\n",
    "In which case our resulting class is the third one down, or $h_\\Theta(x)_3$, which represents the motorcycle."
   ]
  },
  {
   "cell_type": "markdown",
   "metadata": {},
   "source": [
    "if considering $X$ as a Matrix:\n",
    "> $X_{m \\times (n+1)} = {\\begin{bmatrix}\n",
    "    x_0^{(1)} \\;\\; x_1^{(1)} \\;\\; \\dots \\;\\; x_n^{(1)} \\\\\n",
    "    x_0^{(1)} \\;\\; x_1^{(1)} \\;\\; \\dots \\;\\; x_n^{(1)} \\\\\n",
    "    \\dots \\;\\; \\dots \\;\\; \\ddots \\;\\; \\dots \\\\\n",
    "    x_0^{(m)} \\;\\; x_1^{(m)} \\;\\; \\dots \\;\\; x_n^{(m)} \\\\\n",
    "\\end{bmatrix}}\n",
    "= {\\begin{bmatrix}\n",
    "    -(x^{(1)})^T-  \\\\\n",
    "    -(x^{(2)})^T- \\\\\n",
    "    \\dots \\\\\n",
    "    -(x^{(m)})^T- \\\\\n",
    "\\end{bmatrix}}$<br><br>\n",
    "> $y_{m \\times nlabel} = {\\begin{bmatrix}\n",
    "    y_1^{(1)} \\;\\; y_2^{(1)} \\;\\; \\dots \\;\\; y_{nlabel}^{(1)} \\\\\n",
    "    y_1^{(2)} \\;\\; y_2^{(2)} \\;\\; \\dots \\;\\; y_{nlabel}^{(2)} \\\\\n",
    "    \\dots \\;\\; \\dots \\;\\; \\ddots \\;\\; \\dots \\\\\n",
    "    y_1^{(m)} \\;\\; y_2^{(m)} \\;\\; \\dots \\;\\; y_{nlabel}^{(m)} \\\\\n",
    "\\end{bmatrix}}\n",
    "= {\\begin{bmatrix}\n",
    "    -(y^{(1)})^T-  \\\\\n",
    "    -(y^{(2)})^T- \\\\\n",
    "    \\dots \\\\\n",
    "    -(y^{(m)})^T- \\\\\n",
    "\\end{bmatrix}}$<br><br>\n"
   ]
  },
  {
   "cell_type": "markdown",
   "metadata": {},
   "source": []
  }
 ],
 "metadata": {
  "kernelspec": {
   "display_name": "Python 3",
   "language": "python",
   "name": "python3"
  },
  "language_info": {
   "codemirror_mode": {
    "name": "ipython",
    "version": 3
   },
   "file_extension": ".py",
   "mimetype": "text/x-python",
   "name": "python",
   "nbconvert_exporter": "python",
   "pygments_lexer": "ipython3",
   "version": "3.8.5"
  },
  "toc-autonumbering": true
 },
 "nbformat": 4,
 "nbformat_minor": 4
}

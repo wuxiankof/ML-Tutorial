{
 "cells": [
  {
   "cell_type": "markdown",
   "metadata": {},
   "source": [
    "**Week 3: Logistic Regression**"
   ]
  },
  {
   "cell_type": "markdown",
   "metadata": {},
   "source": [
    "Source: [Coursera.org ML Week 3](https://www.coursera.org/learn/machine-learning/home/week/3) <br/>\n",
    "Source: https://www.coursera.org/learn/machine-learning/home/week/3"
   ]
  },
  {
   "cell_type": "markdown",
   "metadata": {},
   "source": [
    "# Classification and Representation #"
   ]
  },
  {
   "cell_type": "markdown",
   "metadata": {},
   "source": [
    "## Classification ##"
   ]
  },
  {
   "cell_type": "markdown",
   "metadata": {},
   "source": [
    "To attempt classification, one method is to use linear regression and map all predictions greater than 0.5 as a 1 and all less than 0.5 as a 0. However, this method doesn't work well because **classification is not actually a linear function**.\n",
    "\n",
    "The classification problem is just like the regression problem, except that the **values we now want to predict** take on only a **small number of discrete values**. For now, we will focus on the binary classification problem in which y can take on only two values, 0 and 1. (Most of what we say here will also generalize to the multiple-class case.) For instance, if we are trying to build a spam classifier for email, then $x^{(i)}$ may be some features of a piece of email, and $y$ may be 1 if it is a piece of spam mail, and 0 otherwise. Hence, $y\\in \\{0,1\\}$. 0 is also called the negative class, and 1 the positive class, and they are sometimes also denoted by the symbols “-” and “+.” Given $x^{(i)}$, the corresponding $y^{(i)}$ is also called the label for the training example."
   ]
  },
  {
   "cell_type": "markdown",
   "metadata": {},
   "source": [
    "## Hypothesis Representation ##"
   ]
  },
  {
   "cell_type": "markdown",
   "metadata": {},
   "source": [
    "We could approach the classification problem ignoring the fact that $y$ is **discrete-valued**, and use our old linear regression algorithm to try to predict y given x. However, it is easy to construct examples where this method performs very poorly. "
   ]
  },
  {
   "cell_type": "markdown",
   "metadata": {},
   "source": [
    "Intuitively, it also doesn’t make sense for $h_\\theta (x)$ to take values larger than 1 or smaller than 0 when we know that $y \\in \\{0,1\\}$. To fix this, let’s change the form for our **hypotheses $h_\\theta$** to satisfy $0 \\leq h_\\theta (x) \\leq 1$ This is accomplished by plugging $\\theta^Tx$ into the Logistic Function."
   ]
  },
  {
   "cell_type": "markdown",
   "metadata": {},
   "source": [
    "Our new form uses the **\"Sigmoid Function,\"** also called the **\"Logistic Function\"**:"
   ]
  },
  {
   "cell_type": "markdown",
   "metadata": {},
   "source": [
    "$h_\\theta(x)=g(z)=g(\\theta^Tx)=\\displaystyle\\frac{1}{1 + e^{-\\theta ^Tx}}$\n",
    "- $z = \\theta^Tx$\n",
    "- $g(z)=\\displaystyle\\frac{1}{1 + e^{-z}}$"
   ]
  },
  {
   "cell_type": "markdown",
   "metadata": {},
   "source": [
    "**Octave/Matlab Code:**\n",
    "```Octave\n",
    "g = 1 ./ (1 + exp(-z));\n",
    "```"
   ]
  },
  {
   "cell_type": "markdown",
   "metadata": {},
   "source": [
    "The following image shows us what the sigmoid function looks like:"
   ]
  },
  {
   "cell_type": "markdown",
   "metadata": {},
   "source": [
    "![](_Images/Sigmoid_Logistic.png)"
   ]
  },
  {
   "cell_type": "markdown",
   "metadata": {},
   "source": [
    "The function g(z), shown here, maps any real number to the (0, 1) interval, making it useful for transforming an arbitrary-valued function into a function better suited for classification."
   ]
  },
  {
   "cell_type": "markdown",
   "metadata": {},
   "source": [
    "$h_\\theta (x)$ will give us the probability that our output is 1. For example, $h_\\theta (x)=0.7$ gives us a probability of 70% that our output is 1. Our probability that our prediction is 0 is just the complement of our probability that it is 1 (e.g. if probability that it is 1 is 70%, then the probability that it is 0 is 30%)."
   ]
  },
  {
   "cell_type": "markdown",
   "metadata": {},
   "source": [
    "$h_\\theta (x)=P(y=1|x;\\theta )=1-P(y=0|x;\\theta )$<br>\n",
    "$P(y=1|x;\\theta ) + P(y=0|x;\\theta ) =1$"
   ]
  },
  {
   "cell_type": "markdown",
   "metadata": {},
   "source": [
    "## Decision Boundary ##"
   ]
  },
  {
   "cell_type": "markdown",
   "metadata": {},
   "source": [
    "In order to get our discrete 0 or 1 classification, we can translate the output of the hypothesis function as follows:"
   ]
  },
  {
   "cell_type": "markdown",
   "metadata": {},
   "source": [
    "> $h_\\theta (x) \\geq 0.5 \\rightarrow y=1$<br>\n",
    "> $h_\\theta (x) < 0.5 \\rightarrow y=0$"
   ]
  },
  {
   "cell_type": "markdown",
   "metadata": {},
   "source": [
    "The way our logistic function $g(z)$  (below chart) behaves is that when its input is greater than or equal to zero, its output is greater than or equal to 0.5:"
   ]
  },
  {
   "cell_type": "markdown",
   "metadata": {},
   "source": [
    "![](_Images/Sigmoid_Logistic.png)"
   ]
  },
  {
   "cell_type": "markdown",
   "metadata": {},
   "source": [
    "> $g(z)=\\displaystyle\\frac{1}{1 + e^{-z}}$<br><br>\n",
    "> $z \\geq 0 \\rightarrow g(z)\\geq0.5$<br>\n",
    "> $z < 0 \\rightarrow g(z)< 0.5$"
   ]
  },
  {
   "cell_type": "markdown",
   "metadata": {},
   "source": [
    "So if our input to g is $z=\\theta^T x$ then that means:"
   ]
  },
  {
   "cell_type": "markdown",
   "metadata": {},
   "source": [
    "> $h_\\theta(x)=g(\\theta^T x)$<br>\n",
    "> $\\theta^T x \\geq 0 \\rightarrow h_\\theta(x)\\geq0.5 \\Rightarrow y=1$<br>\n",
    "> $\\theta^T x < 0 \\rightarrow h_\\theta(x)< 0.5 \\Rightarrow y=0$"
   ]
  },
  {
   "cell_type": "markdown",
   "metadata": {},
   "source": [
    "> - Note: $X$ is a Matrix, $x$ is a Vector"
   ]
  },
  {
   "cell_type": "markdown",
   "metadata": {},
   "source": [
    "The **decision boundary** is the line that separates the area where y = 0 and where y = 1. It is created by our hypothesis function.\n",
    "\n",
    "**Example:**"
   ]
  },
  {
   "cell_type": "markdown",
   "metadata": {},
   "source": [
    ">$\\theta^T =[5, -1, 0]$<br>\n",
    ">$y=1 \\rightarrow \\theta^Tx\\geq0 \\rightarrow 5\\cdot 1+(-1)x_1+0x_2\\geq0 \\rightarrow x_1 \\leq 5$"
   ]
  },
  {
   "cell_type": "markdown",
   "metadata": {},
   "source": [
    "In this case, our decision boundary is a **straight vertical line** placed on the graph where $x_1=5$ , and everything to the left of that denotes y = 1, while everything to the right denotes y = 0."
   ]
  },
  {
   "cell_type": "markdown",
   "metadata": {},
   "source": [
    "Again, the input to the sigmoid function g(z) (e.g. $\\theta^TX$)doesn't need to be linear, and could be a function that describes a circle (e.g. $z= \\theta_0 + \\theta_1 x_1^2 +\\theta_2 x_2^2$) or any shape to fit our data."
   ]
  },
  {
   "cell_type": "markdown",
   "metadata": {},
   "source": [
    "# Logistic Regression Model #"
   ]
  },
  {
   "cell_type": "markdown",
   "metadata": {},
   "source": [
    "## Cost Function ##"
   ]
  },
  {
   "cell_type": "markdown",
   "metadata": {},
   "source": [
    "We **cannot** use the same cost function that we use for linear regression because **the Logistic Function** will cause the **output to be wavy**, causing many **local optima**. In other words, it will **not be a convex function**.\n",
    "\n",
    "Instead, our cost function for logistic regression looks like:"
   ]
  },
  {
   "cell_type": "markdown",
   "metadata": {},
   "source": [
    ">$J(\\theta)=\\displaystyle\\frac{1}{m}\\sum_{i=1}^m$Cost$(h_\\theta(x^{(i)}), y^{(i)})$<br>\n",
    ">Cost$(h_\\theta(x^{(i)}), y^{(i)}) = -log(h_\\theta(x))$ &ensp;&emsp; if y = 1 <br>\n",
    ">Cost$(h_\\theta(x^{(i)}), y^{(i)}) = -log(1-h_\\theta(x))$ if y = 0"
   ]
  },
  {
   "cell_type": "markdown",
   "metadata": {},
   "source": [
    "Ref: for linear regression: \n",
    "> $J(\\theta_0, \\theta_1) = \\dfrac {1}{2m} \\displaystyle \\sum _{i=1}^m \\left ( \\hat{y}^{(i)} - y^{(i)} \\right)^2 = \\dfrac {1}{2m} \\displaystyle \\sum _{i=1}^m \\left (h_\\theta (x^{(i)}) - y^{(i)} \\right)^2$"
   ]
  },
  {
   "cell_type": "markdown",
   "metadata": {},
   "source": [
    "We get the following plot for $J(\\theta)$ vs $h_\\theta(x)$:"
   ]
  },
  {
   "cell_type": "markdown",
   "metadata": {},
   "source": [
    "![](_Images/CostFun.png)"
   ]
  },
  {
   "cell_type": "markdown",
   "metadata": {},
   "source": [
    "![](_Images/SVM1.png)"
   ]
  },
  {
   "cell_type": "markdown",
   "metadata": {},
   "source": [
    "> Cost$(h_\\theta(x),y)=0$: **(same direction)**\n",
    ">- if $h_\\theta(x) =y$ "
   ]
  },
  {
   "cell_type": "markdown",
   "metadata": {},
   "source": [
    "> Cost$(h_\\theta(x),y)\\rightarrow\\infty$: **(opposite direction)**\n",
    ">- if $y=0$ and $h_\\theta(x)\\rightarrow 1$\n",
    ">- if $y=1$ and $h_\\theta(x)\\rightarrow 0$"
   ]
  },
  {
   "cell_type": "markdown",
   "metadata": {},
   "source": [
    "If our correct answer 'y' is 0, then the cost function will be 0 if our hypothesis function also outputs 0. If our hypothesis approaches 1, then the cost function will approach infinity.\n",
    "\n",
    "If our correct answer 'y' is 1, then the cost function will be 0 if our hypothesis function outputs 1. If our hypothesis approaches 0, then the cost function will approach infinity.\n",
    "\n",
    "Note that writing the cost function in this way guarantees that **$J(\\theta)$ is convex for logistic regression**."
   ]
  },
  {
   "cell_type": "markdown",
   "metadata": {},
   "source": [
    "## Simplified Cost Function and Gradient Descent ##"
   ]
  },
  {
   "cell_type": "markdown",
   "metadata": {},
   "source": [
    "**Simplified Cost Function**"
   ]
  },
  {
   "cell_type": "markdown",
   "metadata": {},
   "source": [
    "We can compress our cost function's two conditional cases into one case:\n",
    "> Cost$(h_\\theta(x),y)=-y\\: log(h_\\theta(x))-(1-y)\\: log(1-h_\\theta(x))$"
   ]
  },
  {
   "cell_type": "markdown",
   "metadata": {},
   "source": [
    "Notice that:\n",
    ">- If y is equal to 1, then the 2nd term $(1-y)\\log(1-h_\\theta(x))$ will be zero and will not affect the result. \n",
    ">- If y is equal to 0, then the 1st term $-y \\log(h_\\theta(x))$ will be zero and will not affect the result."
   ]
  },
  {
   "cell_type": "markdown",
   "metadata": {},
   "source": [
    "considering input data:\n",
    "> $X_{m \\times (n+1)} = {\\begin{bmatrix}\n",
    "    x_0^{(1)} \\;\\; x_1^{(1)} \\;\\; \\dots \\;\\; x_n^{(1)} \\\\\n",
    "    x_0^{(1)} \\;\\; x_1^{(1)} \\;\\; \\dots \\;\\; x_n^{(1)} \\\\\n",
    "    \\dots \\;\\; \\dots \\;\\; \\ddots \\;\\; \\dots \\\\\n",
    "    x_0^{(m)} \\;\\; x_1^{(m)} \\;\\; \\dots \\;\\; x_n^{(m)} \\\\\n",
    "\\end{bmatrix}}\n",
    "= {\\begin{bmatrix}\n",
    "    -(x^{(1)})^T-  \\\\\n",
    "    -(x^{(2)})^T- \\\\\n",
    "    \\dots \\\\\n",
    "    -(x^{(m)})^T- \\\\\n",
    "\\end{bmatrix}}$<br><br>\n",
    "> $\\theta= {\\begin{bmatrix}\n",
    "    \\theta^{(1)} \\\\\n",
    "    \\theta^{(2)} \\\\\n",
    "    \\dots \\\\\n",
    "    \\theta^{(n+1)} \\\\\n",
    "\\end{bmatrix}}\n",
    "\\;, y= {\\begin{bmatrix}\n",
    "    y^{(1)} \\\\\n",
    "    y^{(2)} \\\\\n",
    "    \\dots \\\\\n",
    "    y^{(m)} \\\\\n",
    "\\end{bmatrix}}$\n",
    "\n",
    "We can fully write out our entire cost function as follows:\n",
    "> $J(\\theta)=-\\displaystyle\\frac{1}{m}\\sum_{i=1}^m [y^{(i)}\\: log(h_\\theta(x^{(i)}))+(1-y^{(i)})\\: log(1-h_\\theta(x^{(i)}))]$"
   ]
  },
  {
   "cell_type": "markdown",
   "metadata": {},
   "source": [
    "A vectorized implementation is:\n",
    "\n",
    "> $h = g(X\\theta)$<br>\n",
    "> $J(\\theta)=-\\dfrac{1}{m}[y^T\\: log(h)+(1-y^T)\\: log(1-h)]$\n",
    "\n",
    "Octave/Matlab Code:\n",
    "```Octave\n",
    "J = (-1/m) * (y'*log(sigmoid(X*theta)) + (1-y)'*log(1-sigmoid(X*theta)));\n",
    "```"
   ]
  },
  {
   "cell_type": "markdown",
   "metadata": {},
   "source": [
    "**Gradient Descent**"
   ]
  },
  {
   "cell_type": "markdown",
   "metadata": {},
   "source": [
    "We can work out the derivative part using calculus to get:<br>\n",
    "Repeat:\n",
    "> $\\theta_j:=\\theta_j-\\alpha\\displaystyle\\frac{\\partial}{\\partial\\theta_j}J(\\theta)$"
   ]
  },
  {
   "cell_type": "markdown",
   "metadata": {},
   "source": [
    "We can work out the **derivative part using calculus** to get:<br>\n",
    "Repeat:\n",
    "> $\\theta_j:=\\theta_j-\\displaystyle\\frac{\\alpha}{m}\\sum_{i=1}^m(h_\\theta(x^{(i)})-y^{(i)})x_j^{(i)}$\n",
    "\n",
    "> Note (Week 5 NN Learning): Using $y^{(t)}$, compute $\\delta^{(L)} = a^{(L)} - y^{(t)}$"
   ]
  },
  {
   "cell_type": "markdown",
   "metadata": {},
   "source": [
    "Notice that this algorithm is identical to the one we used in linear regression. We still have to simultaneously update all values in theta."
   ]
  },
  {
   "cell_type": "markdown",
   "metadata": {},
   "source": [
    "A vectorized implementation:\n",
    "> $\\theta := \\theta - \\displaystyle\\frac{\\alpha}{m} X^{T} (g(X \\theta ) - \\vec{y})$\n",
    "\n",
    "Octave/Matlab Code:\n",
    "```Octave\n",
    "grad = (1/m) .* (X'*(sigmoid(X*theta)-y));\n",
    "```"
   ]
  },
  {
   "cell_type": "markdown",
   "metadata": {},
   "source": [
    "## Advanced Optimization ##"
   ]
  },
  {
   "cell_type": "markdown",
   "metadata": {},
   "source": [
    "**\"Conjugate [ˈkɑːndʒəɡeɪt] 结合物；共轭物；偶联物 gradient\"**, \"BFGS\", and \"L-BFGS\" are more sophisticated, faster ways to optimize θ that can be used instead of gradient descent. We suggest that you should not write these more sophisticated algorithms yourself (unless you are an expert in numerical computing) but **use the libraries instead**, as they're already tested and highly optimized. Octave provides them."
   ]
  },
  {
   "cell_type": "markdown",
   "metadata": {},
   "source": [
    "We first need to provide a function that evaluates the following two functions for a given input value θ:\n",
    "\n",
    ">- $J(\\theta)$\n",
    ">- $\\dfrac{\\partial}{\\partial\\theta_j}J(\\theta)$"
   ]
  },
  {
   "cell_type": "markdown",
   "metadata": {},
   "source": [
    "We can write a single function that returns both of these:\n",
    "\n",
    "```Octave\n",
    "function [jVal, gradient] = costFunction(theta)\n",
    "  jVal = [...code to compute J(theta)...];\n",
    "  gradient = [...code to compute derivative of J(theta)...];\n",
    "end\n",
    "```\n",
    "\n",
    "Then we can use octave's **\"fminunc()\"** optimization algorithm along with the **\"optimset()\"** function that creates an object containing the options we want to send to \"fminunc()\"\n",
    "\n",
    "> **\"fminunc()\"**: Find minimum of unconstrained multivariable function\n",
    "\n",
    "```Octave\n",
    "options = optimset('GradObj', 'on', 'MaxIter', 100);\n",
    "initialTheta = zeros(2,1);\n",
    "   [optTheta, functionVal, exitFlag] = fminunc(@costFunction, initialTheta, options);\n",
    "```\n",
    "\n",
    "We give to the function \"fminunc()\" our cost function, our initial vector of theta values, and the \"options\" object that we created beforehand."
   ]
  },
  {
   "cell_type": "markdown",
   "metadata": {},
   "source": [
    "# Multiclass Classification #"
   ]
  },
  {
   "cell_type": "markdown",
   "metadata": {},
   "source": [
    "Now we will approach the classification of data when we have **more than two categories**. Instead of y = {0,1} we will expand our definition so that y = {0,1...n}.\n",
    "\n",
    "Since y = {0,1...n}, we divide our problem into n+1 (+1 because the index starts at 0) binary classification problems; in each one, we predict the probability that 'y' is a member of one of our classes.\n",
    "\n",
    "> $y \\in \\{0, 1, \\dots, n\\}$ <br>\n",
    "> $h_\\theta^{(0)}(x) = P(y=0|x;\\theta)$<br>\n",
    "> $h_\\theta^{(1)}(x) = P(y=1|x;\\theta)$<br>\n",
    "> ...<br>\n",
    "> $h_\\theta^{(n)}(x) = P(y=n|x;\\theta)$<br>\n",
    "> $\\text{prediction} =\\displaystyle\\max_{i}h_\\theta^{(i)}(x)$<br>\n",
    "\n",
    "We are basically **choosing one class** and then **lumping all the others** into a **single second class**. We do this **repeatedly**, applying binary logistic regression to each case, and then use the hypothesis that returned the **highest value** as our prediction.\n",
    "\n",
    "The following image shows how one could classify 3 classes:"
   ]
  },
  {
   "cell_type": "markdown",
   "metadata": {},
   "source": [
    "![](_Images/Multiclass.png)"
   ]
  },
  {
   "cell_type": "markdown",
   "metadata": {},
   "source": [
    "To summarize:\n",
    ">- Train a logistic regression classifier $h_\\theta(x)$ for each class￼ to predict the probability that ￼￼$y = i￼$<br>\n",
    ">- To make a prediction on a new x, pick the class ￼that maximizes $h_\\theta (x)$"
   ]
  },
  {
   "cell_type": "markdown",
   "metadata": {},
   "source": [
    "# Regularization #"
   ]
  },
  {
   "cell_type": "markdown",
   "metadata": {},
   "source": [
    "## The Problem of Overfitting ##"
   ]
  },
  {
   "cell_type": "markdown",
   "metadata": {},
   "source": [
    "Consider the problem of predicting $y$ from $x\\in R$. The leftmost figure below shows the result of fitting a $y=\\theta_0 + \\theta_1 x$ to a dataset. We see that the data doesn’t really lie on straight line, and so the fit is not very good."
   ]
  },
  {
   "cell_type": "markdown",
   "metadata": {},
   "source": [
    "![](_Images/Overfitting.png)"
   ]
  },
  {
   "cell_type": "markdown",
   "metadata": {},
   "source": [
    "Instead, if we had added an extra feature $x^2$ and fit $y = \\theta_0 + \\theta_1x + \\theta_2x^2$, then we obtain a slightly better fit to the data (See middle figure). Naively, it might seem that the more features we add, the better. However, there is also a danger in adding too many features: The rightmost figure is the result of fitting a $5^{th}$ order polynomial $y = \\sum_{j=0}^5 \\theta_j x^j$ We see that even though the fitted curve passes through the data perfectly, we would not expect this to be a very good predictor of, say, housing prices (y) for different living areas (x). "
   ]
  },
  {
   "cell_type": "markdown",
   "metadata": {},
   "source": [
    "The figure on the left shows an instance of **underfitting**, in which the data clearly shows structure not captured by the model. **Underfitting**, or **high bias 偏见**, is when the form of our hypothesis function $h$ maps poorly to the trend of the data. It is usually caused by a function that is <ins>too simple</ins> or uses <ins>too few features</ins>. \n",
    "\n",
    "The figure on the right is an example of **overfitting**. At the other extreme, **overfitting**, or **high variance**, is caused by a hypothesis function that <ins>fits the available data</ins> but does <ins>not generalize well to predict new data</ins>. It is usually caused by a <ins>complicated function</ins> that creates a lot of <ins>unnecessary curves and angles</ins> unrelated to the data."
   ]
  },
  {
   "cell_type": "markdown",
   "metadata": {},
   "source": [
    "This terminology is applied to both linear and logistic regression. There are two main options to address the issue of **overfitting**:\n",
    "\n",
    "1) **Reduce the number of features**:\n",
    "- Manually select which features to keep.\n",
    "- Use a model selection algorithm (studied later in the course).\n",
    "\n",
    "2) Regularization 正则化\n",
    "- **Keep all the features**, but **reduce the magnitude** of parameters $\\theta_j $\n",
    "- Regularization works well when we have a lot of slightly useful features"
   ]
  },
  {
   "cell_type": "markdown",
   "metadata": {},
   "source": [
    "## Cost Function ##"
   ]
  },
  {
   "cell_type": "markdown",
   "metadata": {},
   "source": [
    "If we have **overfitting** from our hypothesis function, we can **reduce the weight** that some of the terms in our function carry by increasing their cost.\n",
    "\n",
    "Say we wanted to make the following function more quadratic:\n",
    "> $\\theta_0 + \\theta_1x + \\theta_2x^2 + \\theta_3x^3 + \\theta_4x^4$"
   ]
  },
  {
   "cell_type": "markdown",
   "metadata": {},
   "source": [
    "We'll want to eliminate the influence of $\\theta_3x^3$. Without actually getting rid of these features or changing the form of our hypothesis, we can instead modify our **cost function**:\n",
    "\n",
    "> $\\min_\\theta\\displaystyle\\frac{1}{2m}\\sum_{i=1}^m (h_\\theta(x^{(i)}) - y^{(i)})^2 + 1000\\cdot\\theta_3^2 + 1000\\cdot\\theta_4^2$"
   ]
  },
  {
   "cell_type": "markdown",
   "metadata": {},
   "source": [
    "We've added two extra terms at the end to **inflate the cost** of $\\theta_3$ Now, in order for the cost function to get close to zero, we will have to reduce the values of $\\theta_3$ and $\\theta_4$ to near zero. This will in turn greatly reduce the values of $\\theta_3x^3$ and $\\theta_4x^4$ in our hypothesis function. \n",
    "\n",
    "As a result, we see that the new hypothesis (depicted by the pink curve) looks like a quadratic function but fits the data better due to the extra small terms $\\theta_3x^3$ and $\\theta_4x^4$"
   ]
  },
  {
   "cell_type": "markdown",
   "metadata": {},
   "source": [
    "![](_Images/CostFun_Regu.png)"
   ]
  },
  {
   "cell_type": "markdown",
   "metadata": {},
   "source": [
    "We could also regularize all of our theta parameters in a single summation as:\n",
    "\n",
    ">$\\min_\\theta\\ \\displaystyle\\frac{1}{2m}\\ \\sum_{i=1}^m (h_\\theta(x^{(i)}) - y^{(i)})^2 + \\lambda\\ \\sum_{j=1}^n \\theta_j^2$\n",
    "\n",
    "Programme:\n",
    "```Octave\n",
    "\n",
    "```\n",
    " \n",
    "The $\\lambda$, or lambda, is the **regularization parameter**. It determines how much the costs of our theta parameters are inflated.\n",
    "\n",
    "Using the above cost function with the extra summation, we can smooth the output of our hypothesis function to reduce overfitting. **If lambda is chosen to be too large**, it may smooth out the function too much and cause **underfitting**. Hence, what would happen if $\\lambda = 0$ or is too small ?"
   ]
  },
  {
   "cell_type": "markdown",
   "metadata": {},
   "source": [
    "## Regularized Linear Regression ##"
   ]
  },
  {
   "cell_type": "markdown",
   "metadata": {},
   "source": [
    "We can apply regularization to both linear regression and logistic regression. We will approach linear regression first."
   ]
  },
  {
   "cell_type": "markdown",
   "metadata": {},
   "source": [
    "**Gradient Descent**"
   ]
  },
  {
   "cell_type": "markdown",
   "metadata": {},
   "source": [
    "We will modify our gradient descent function to separate out $\\theta_0$ from the rest of the parameters because **we do not want to penalize $\\theta_0$**.\n",
    "\n",
    "Repeat:\n",
    "> $\\theta_0:=\\theta_0 - \\alpha \\displaystyle\\frac{1}{m} \\sum_{i=1}^m(h_\\theta(x^{(i)})-y^{(i)}) \\cdot x_0^{(i)}$ <br>\n",
    "> $\\theta_j:=\\theta_j - \\alpha [(\\displaystyle\\frac{1}{m} \\sum_{i=1}^m(h_\\theta(x^{(i)})-y^{(i)}) \\cdot x_j^{(i)}) + \\dfrac{\\lambda}{m}\\theta_j] \\:\\: \\:\\:\\text{for}\\: j \\in \\{1,\\dots, n\\}$ <br>"
   ]
  },
  {
   "cell_type": "markdown",
   "metadata": {},
   "source": [
    "The term $\\frac{\\lambda}{m}\\theta_j$ performs our regularization. With some manipulation our update rule can also be represented as:\n",
    "> $\\theta_j:=\\theta_j(1-\\alpha\\dfrac{\\lambda}{m}) - \\alpha \\displaystyle\\frac{1}{m} \\sum_{i=1}^m(h_\\theta(x^{(i)})-y^{(i)}) \\cdot x_j^{(i)}$"
   ]
  },
  {
   "cell_type": "markdown",
   "metadata": {},
   "source": [
    "The first term in the above equation, $1 - \\alpha\\dfrac{\\lambda}{m}$ will always be less than 1. Intuitively you can see it as reducing the value of $\\theta_j$ by some amount on every update. Notice that the second term is now exactly the same as it was before."
   ]
  },
  {
   "cell_type": "markdown",
   "metadata": {},
   "source": [
    "**Normal Equation**"
   ]
  },
  {
   "cell_type": "markdown",
   "metadata": {},
   "source": [
    "To add in regularization, the equation is the same as our original, except that we add another term inside the parentheses:\n",
    "> $\\theta = (X^T X + \\lambda \\cdot L)^{-1}X^Ty$<br>\n",
    "<br>\n",
    "> where $L = {\\begin{bmatrix}\n",
    "    0 \\;\\; 0 \\;\\; 0 \\;\\; \\dots \\;\\; 0 \\\\\n",
    "    0 \\;\\; 1 \\;\\; 0 \\;\\; \\dots \\;\\; 0 \\\\\n",
    "    0 \\;\\; 0 \\;\\; 1 \\;\\; \\dots \\;\\; 0 \\\\\n",
    "    \\vdots \\;\\; \\vdots \\;\\; \\vdots \\;\\; \\ddots \\;\\; \\vdots \\\\\n",
    "    0 \\;\\; 0 \\;\\; 0 \\;\\; \\dots \\;\\; 1 \\\\\n",
    "\\end{bmatrix}}$"
   ]
  },
  {
   "cell_type": "markdown",
   "metadata": {},
   "source": [
    "L is a matrix with **0 at the top left** and **1's down the diagonal**, with 0's everywhere else. It should have dimension (n+1)×(n+1). Intuitively, this is the identity matrix (though we are not including, multiplied with a single real number $\\lambda$."
   ]
  },
  {
   "cell_type": "markdown",
   "metadata": {},
   "source": [
    "Recall that if m < n, then $X^TX$ is non-invertible. However, when we add the term $\\lambda \\cdot L$, then $X^TX +\\lambda \\cdot L$ becomes invertible."
   ]
  },
  {
   "cell_type": "markdown",
   "metadata": {},
   "source": [
    "## Regularized Logistic Regression ##"
   ]
  },
  {
   "cell_type": "markdown",
   "metadata": {},
   "source": [
    "We can regularize logistic regression in a similar way that we regularize linear regression. As a result, we can avoid overfitting. The following image shows how the regularized function, displayed by the pink line, is less likely to overfit than the non-regularized function represented by the blue line:"
   ]
  },
  {
   "cell_type": "markdown",
   "metadata": {},
   "source": [
    "![](_Images/Regu_Log1.png)"
   ]
  },
  {
   "cell_type": "markdown",
   "metadata": {},
   "source": [
    "**Cost Function**"
   ]
  },
  {
   "cell_type": "markdown",
   "metadata": {},
   "source": [
    "Recall that our cost function for logistic regression was:\n",
    "> $J(\\theta)=-\\displaystyle\\frac{1}{m}\\sum_{i=1}^m [y^{(i)}\\: log(h_\\theta(x^{(i)}))+(1-y^{(i)})\\: log(1-h_\\theta(x^{(i)}))]$\n",
    "\n",
    "We can regularize this equation by adding a term to the end:\n",
    "> $J(\\theta)=-\\displaystyle\\frac{1}{m}\\sum_{i=1}^m [y^{(i)}\\: log(h_\\theta(x^{(i)}))+(1-y^{(i)})\\: log(1-h_\\theta(x^{(i)}))]+\\displaystyle\\frac{\\lambda}{2m}\\sum_{j=1}^n\\theta_j^2$\n",
    "\n",
    "Programme:\n",
    "```Octave\n",
    "temp = theta;\n",
    "temp(1) = 0;\n",
    "J= (-1/m) * (y'*log(sigmoid(X*theta)) + (1-y')*log(1-sigmoid(X*theta))) + ...\n",
    "    (lambda/2/m) * (temp'* temp);\n",
    "```\n",
    "\n",
    "The second sum, $\\displaystyle\\frac{\\lambda}{2m}\\sum_{j=1}^n\\theta_j^2$ means to explicitly exclude the bias term, $\\theta_0$ I.e. the $\\theta$ vector is indexed from 0 to n (holding n+1 values, $\\theta_0$ through $\\theta_n$), and this sum explicitly skips $\\theta_0$, by running from 1 to n, skipping 0. \n",
    "\n",
    "Thus, when computing the equation, we should continuously update the two following equations:"
   ]
  },
  {
   "cell_type": "markdown",
   "metadata": {},
   "source": [
    "**Gradient descent**\n",
    "\n",
    "Repeat:\n",
    "> $\\theta_0:=\\theta_0 - \\alpha \\displaystyle\\frac{1}{m} \\sum_{i=1}^m(h_\\theta(x^{(i)})-y^{(i)}) \\cdot x_0^{(i)}$ <br>\n",
    "> $\\theta_j:=\\theta_j - \\alpha [(\\displaystyle\\frac{1}{m} \\sum_{i=1}^m(h_\\theta(x^{(i)})-y^{(i)}) \\cdot x_j^{(i)}) + \\dfrac{\\lambda}{m}\\theta_j] \\:\\: \\:\\:\\text{for}\\: j \\in \\{1,\\dots, n\\}$ <br>\n",
    "\n",
    "in programming:\n",
    "```Octave\n",
    "temp = theta\n",
    "temp(1) = 0;\n",
    "grad = (1/m) .* (X'*(sigmoid(X*theta)-y)) + (lambda/m) * temp;\n",
    "```"
   ]
  },
  {
   "cell_type": "markdown",
   "metadata": {},
   "source": [
    "![](_Images/Regu_Log2.png)"
   ]
  }
 ],
 "metadata": {
  "kernelspec": {
   "display_name": "Python 3",
   "language": "python",
   "name": "python3"
  },
  "language_info": {
   "codemirror_mode": {
    "name": "ipython",
    "version": 3
   },
   "file_extension": ".py",
   "mimetype": "text/x-python",
   "name": "python",
   "nbconvert_exporter": "python",
   "pygments_lexer": "ipython3",
   "version": "3.8.5"
  },
  "toc-autonumbering": true
 },
 "nbformat": 4,
 "nbformat_minor": 4
}

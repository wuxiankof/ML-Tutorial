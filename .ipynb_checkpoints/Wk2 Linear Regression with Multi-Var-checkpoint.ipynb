{
 "cells": [
  {
   "cell_type": "markdown",
   "metadata": {},
   "source": [
    "**Week 2: Linear Regression with Multiple Variables**<br>\n",
    "Source: https://www.coursera.org/learn/machine-learning/home/week/2"
   ]
  },
  {
   "cell_type": "markdown",
   "metadata": {},
   "source": [
    "# Environment Setup Instructions #"
   ]
  },
  {
   "cell_type": "markdown",
   "metadata": {},
   "source": [
    "# Multivariate Linear Regression #"
   ]
  },
  {
   "cell_type": "markdown",
   "metadata": {},
   "source": [
    "## Multiple Features ## "
   ]
  },
  {
   "cell_type": "markdown",
   "metadata": {},
   "source": [
    "Linear regression with multiple variables is also known as \"multivariate linear regression\".\n",
    "\n",
    "We now introduce **notation** for equations where we can have any number of input variables.\n",
    ">- $x_j^{(i)}$ = value of feature $j$ in the $i^{th}$ training example\n",
    ">- $x^{(i)}$ =the input (features) of the $i^{th}$ training example\n",
    ">- $m$ = the number of training **examples**, $(i)\\in\\{1,2,\\dots,m\\}$\n",
    ">- $n$ = the number of **features**, $j\\in\\{0,1,2,\\dots,n\\}$"
   ]
  },
  {
   "cell_type": "markdown",
   "metadata": {},
   "source": [
    "The **multivariable form** of the hypothesis function accommodating these multiple features is as follows:\n",
    "\n",
    "> $h_\\theta (x) = \\theta_0 + \\theta_1 x_1 + \\theta_2 x_2 + \\theta_3 x_3 + \\cdots + \\theta_n x_n$"
   ]
  },
  {
   "cell_type": "markdown",
   "metadata": {},
   "source": [
    "In order to develop intuition about this function, we can think about: \n",
    ">- $\\theta_0$ as the basic price of a house, \n",
    ">- $\\theta_1$ as the price per square meter, \n",
    ">- $\\theta_2$ as the price per floor, etc. \n",
    ">- $x_1$ will be the number of square meters in the house, \n",
    ">- $x_2$ the number of floors, etc."
   ]
  },
  {
   "cell_type": "markdown",
   "metadata": {},
   "source": [
    "Using the definition of **matrix multiplication**, our multivariable hypothesis function can be concisely represented as:\n",
    "\n",
    "> $h_\\theta(x) = [\\theta_0 \\;\\;\\; \\theta_1 \\;\\;\\; \\dots \\;\\;\\; \\theta_n] {\\begin{bmatrix} x_0 \\\\ x_1 \\\\ \\vdots \\\\ x_n \\end{bmatrix}} $\n",
    "\n",
    ">$= \\theta^Tx = x^T\\theta = [x_0 \\;\\;\\; x_1 \\;\\;\\; \\dots \\;\\;\\; x_n] {\\begin{bmatrix}\\theta_0 \\\\ \\theta_1 \\\\ \\vdots \\\\ \\theta_n \\end{bmatrix}}=\\displaystyle\\sum_{j=0}^n\\theta_jx_j$\n"
   ]
  },
  {
   "cell_type": "markdown",
   "metadata": {},
   "source": [
    "This is a vectorization of our hypothesis function for one training example; see the lessons on vectorization to learn more.\n",
    "\n",
    "Remark: Note that for convenience reasons in this course we assume $x_{0}^{(i)} =1 \\text{ for } (i\\in {1, \\dots, m})$ This allows us to do matrix operations with theta and x. Hence making the two vectors $'\\theta'$ and $x^{(i)}$ match each other element-wise (that is, have the same number of elements: n+1)."
   ]
  },
  {
   "cell_type": "markdown",
   "metadata": {},
   "source": [
    "## Gradient Descent For Multiple Variables ##"
   ]
  },
  {
   "cell_type": "markdown",
   "metadata": {},
   "source": [
    "The gradient descent equation itself is generally the same form; we just have to repeat it for our 'n' features:\n",
    "\n",
    "Repeat until convergence:\n",
    "> $\\theta_0:=\\theta_0 - \\alpha \\displaystyle\\frac{1}{m} \\sum_{i=1}^m(h_\\theta(x^{(i)})-y^{(i)}) \\cdot x_0^{(i)} $ <br>\n",
    "> $\\theta_1:=\\theta_1 - \\alpha \\displaystyle\\frac{1}{m} \\sum_{i=1}^m(h_\\theta(x^{(i)})-y^{(i)}) \\cdot x_1^{(i)} $ <br>\n",
    "> $\\theta_2:=\\theta_2 - \\alpha \\displaystyle\\frac{1}{m} \\sum_{i=1}^m(h_\\theta(x^{(i)})-y^{(i)}) \\cdot x_2^{(i)} $ <br>\n",
    "...\n",
    "\n",
    "> Note: $x^{(i)}$ is a vector; while $h_\\theta(x^{(i)})$ and $y^{(i)}$ are a scalars "
   ]
  },
  {
   "cell_type": "markdown",
   "metadata": {},
   "source": [
    "In other words, Repeat until convergence:\n",
    "> $\\theta_j:=\\theta_j-\\alpha \\displaystyle\\frac{1}{m} \\sum_{i=1}^m(h_\\theta(x^{(i)})-y^{(i)}) \\cdot x_j^{(i)} \\:\\: \\:\\:\\text{for}\\:j:= 0,\\dots n$ <br>"
   ]
  },
  {
   "cell_type": "markdown",
   "metadata": {},
   "source": [
    "A vectorized implementation is:\n",
    "> $\\theta := \\theta - \\displaystyle\\frac{\\alpha}{m} X^{T} (g(X \\theta ) - \\vec{y})$\n",
    "\n",
    "> $\\theta := \\theta - \\displaystyle\\frac{\\alpha}{m} X^{T} (X \\theta - y)$\n",
    "\n",
    "> $X_{m \\times (n+1)} = {\\begin{bmatrix}\n",
    "    x_0^{(1)} \\;\\; x_1^{(1)} \\;\\; \\dots \\;\\; x_n^{(1)} \\\\\n",
    "    x_0^{(2)} \\;\\; x_1^{(2)} \\;\\; \\dots \\;\\; x_n^{(2)} \\\\\n",
    "    \\dots \\;\\; \\dots \\;\\; \\ddots \\;\\; \\dots \\\\\n",
    "    x_0^{(m)} \\;\\; x_1^{(m)} \\;\\; \\dots \\;\\; x_n^{(m)} \\\\\n",
    "\\end{bmatrix}}\n",
    "= {\\begin{bmatrix}\n",
    "    -(x^{(1)})^T-  \\\\\n",
    "    -(x^{(2)})^T- \\\\\n",
    "    \\dots \\\\\n",
    "    -(x^{(m)})^T- \\\\\n",
    "\\end{bmatrix}}$"
   ]
  },
  {
   "cell_type": "markdown",
   "metadata": {},
   "source": [
    "The following image compares gradient descent with one variable to gradient descent with multiple variables:"
   ]
  },
  {
   "cell_type": "markdown",
   "metadata": {},
   "source": [
    "![](_Images/GD_Multi.png)"
   ]
  },
  {
   "cell_type": "markdown",
   "metadata": {},
   "source": [
    "## Reading: Gradient Descent in Practice I - Feature Scaling ##"
   ]
  },
  {
   "cell_type": "markdown",
   "metadata": {},
   "source": [
    "We can **speed up gradient descent** by having **each of our input values** in roughly **the same range**. This is because **θ will descend quickly on small ranges and slowly on large ranges**, and so will oscillate inefficiently down to the optimum when the variables are very uneven.\n",
    "\n",
    "The way to prevent this is to modify the ranges of our input variables so that they are all roughly the same. Ideally:\n",
    "\n",
    "> $-1 \\leq x_{(i)} \\leq 1$ <br>\n",
    "> or <br>\n",
    "> $-0.5 \\leq x_{(i)} \\leq 0.5$\n",
    "\n",
    "These aren't exact requirements; we are only trying to speed things up. The goal is to get all input variables into roughly one of these ranges, give or take a few."
   ]
  },
  {
   "cell_type": "markdown",
   "metadata": {},
   "source": [
    "Two techniques to help with this are **feature scaling** and **mean normalization**. \n",
    ">- Feature scaling involves dividing the input values by the range (i.e. the maximum value minus the minimum value) of the input variable, resulting in a new range of just 1. \n",
    ">- Mean normalization involves subtracting the average value for an input variable from the values for that input variable resulting in a new average value for the input variable of just zero. "
   ]
  },
  {
   "cell_type": "markdown",
   "metadata": {},
   "source": [
    "To implement both of these techniques, adjust your input values as shown in this formula:\n",
    "> $x_i := \\dfrac{x_i-\\mu_i}{s_i}$\n",
    "\n",
    "Where: \n",
    ">- $\\mu_i$ is the average of all the values for feature (i) and \n",
    ">- $s_i$ is the range of values (max - min), or $s_i$ is the standard deviation."
   ]
  },
  {
   "cell_type": "markdown",
   "metadata": {},
   "source": [
    "Note that dividing by the range, or dividing by the standard deviation, give different results. The quizzes in this course use range - the programming exercises use standard deviation.\n",
    "\n",
    "For example, if $x_i$ represents housing prices with a range of 100 to 2000 and a mean value of 1000, then, $x_i := \\dfrac{price-1000}{1900}$"
   ]
  },
  {
   "cell_type": "markdown",
   "metadata": {},
   "source": [
    "## Gradient Descent in Practice II - Learning Rate ##"
   ]
  },
  {
   "cell_type": "markdown",
   "metadata": {},
   "source": [
    "**Debugging gradient descent**. Make a plot with number of iterations on the x-axis. Now plot the cost function, J(θ) over the number of iterations of gradient descent. If J(θ) ever increases, then you probably need to decrease α.\n",
    "\n",
    "**Automatic convergence test**. Declare convergence if J(θ) decreases by less than E in one iteration, where E is some small value such as $10^{−3}$ However in practice it's difficult to choose this threshold value."
   ]
  },
  {
   "cell_type": "markdown",
   "metadata": {},
   "source": [
    "![](_Images/GD_LR1.png)"
   ]
  },
  {
   "cell_type": "markdown",
   "metadata": {},
   "source": [
    "It has been proven that if **learning rate α is sufficiently small**, then J(θ) will decrease on every iteration."
   ]
  },
  {
   "cell_type": "markdown",
   "metadata": {},
   "source": [
    "![](_Images/GD_LR2.png)"
   ]
  },
  {
   "cell_type": "markdown",
   "metadata": {},
   "source": [
    "To summarize:\n",
    ">- If $\\alpha$ is too small: slow convergence.\n",
    ">- If $\\alpha$ is too large: ￼may not decrease on every iteration and thus may not converge."
   ]
  },
  {
   "cell_type": "markdown",
   "metadata": {},
   "source": [
    "## Features and Polynomial Regression ##"
   ]
  },
  {
   "cell_type": "markdown",
   "metadata": {},
   "source": [
    "We can improve our features and the form of our hypothesis function in a couple different ways.\n",
    "\n",
    "We can **combine** multiple features into one. For example, we can combine $x_1$ and $x_2$ into a new feature $x_3$ by taking $x_1 \\cdot x_2$."
   ]
  },
  {
   "cell_type": "markdown",
   "metadata": {},
   "source": [
    "**Polynomial Regression**"
   ]
  },
  {
   "cell_type": "markdown",
   "metadata": {},
   "source": [
    "Our hypothesis function need **NOT** be linear (a straight line) if that does not fit the data well.\n",
    "\n",
    "We can **change the behavior or curve** of our hypothesis function by making it a quadratic, cubic or square root function (or any other form).\n",
    "\n",
    "For example, if our hypothesis function is $h_\\theta(x) = \\theta_0 + \\theta_1 x_1$ then we can create additional features based on $x_1$, to get the quadratic function $h_\\theta(x) = \\theta_0 + \\theta_1 x_1 + \\theta_2 x_1^2$ or the cubic function $h_\\theta(x) = \\theta_0 + \\theta_1 x_1 + \\theta_2 x_1^2 + \\theta_3 x_1^3$\n",
    " \n",
    "In the cubic version, we have created new features $x_2$ and $x_3$ where $x_2 = x_1^2$ and $x_3 = x_1^3$\n",
    "\n",
    "To make it a square root function, we could do: $h_\\theta(x) = \\theta_0 + \\theta_1 x_1 + \\theta_2 \\sqrt{x_1}$\n",
    " \n",
    "One important thing to keep in mind is, if you choose your features this way then **feature scaling** becomes very important. e.g.: \n",
    ">- if $x_1$ has range 1 - 1000 then \n",
    ">- range of $x_1^2$ becomes 1 - 1000000 and \n",
    ">- that of $x_1^3$ becomes 1 - 1000000000"
   ]
  },
  {
   "cell_type": "markdown",
   "metadata": {},
   "source": [
    "# Computing Parameters Analytically #"
   ]
  },
  {
   "cell_type": "markdown",
   "metadata": {},
   "source": [
    "## Normal Equation ##"
   ]
  },
  {
   "cell_type": "markdown",
   "metadata": {},
   "source": [
    "In the example should have elements x with subscript 1 and superscripts varying from 1 to m because for all m training sets there are only 2 features $x_0$ and $x_1$.\n",
    "\n",
    "Gradient descent gives one way of minimizing J. Let’s discuss a second way of doing so, this time performing the minimization explicitly and without resorting to an iterative algorithm. In the \"Normal Equation\" method, we will minimize J by explicitly taking its derivatives with respect to the θj ’s, and setting them to zero. This allows us to find the optimum theta without iteration. The normal equation formula is given below:\n",
    "\n",
    "> $\\theta = (X^T X)^{-1}X^Ty$<br>\n",
    "> ($\\because X^TX\\theta = X^Ty$)"
   ]
  },
  {
   "cell_type": "markdown",
   "metadata": {},
   "source": [
    "![](_Images/NE1.png)"
   ]
  },
  {
   "cell_type": "markdown",
   "metadata": {},
   "source": [
    "There is no need to do feature scaling with the normal equation.\n",
    "\n",
    "The following is a comparison of gradient descent and the normal equation:\n",
    "\n",
    "|Gradient Descent|Normal Equation| \n",
    "|---|---|\n",
    "|Need to choose alpha | No need to choose alpha|\n",
    "|Needs many iterations | No need to iterate|\n",
    "|$\\mathcal{O}(kn^2)$|$\\mathcal{O}(n^3)$, need to calculate inverse of $X^TX$ |\n",
    "|Works well when n is large|Slow if n is very large|"
   ]
  },
  {
   "cell_type": "markdown",
   "metadata": {},
   "source": [
    "With the normal equation, computing the inversion has complexity $\\mathcal{O}(n^3)$. So if we have a very large number of features, the normal equation will be slow. In practice, when n **exceeds 10,000** it might be a good time to go from a normal solution to **an iterative process**."
   ]
  },
  {
   "cell_type": "markdown",
   "metadata": {},
   "source": [
    "## Normal Equation Noninertibility ##"
   ]
  },
  {
   "cell_type": "markdown",
   "metadata": {},
   "source": [
    "When implementing the normal equation in octave we want to use the 'pinv' function rather than 'inv.' The 'pinv' function will give you a value of $\\theta$ even if $X^TX$ is not invertible."
   ]
  },
  {
   "cell_type": "markdown",
   "metadata": {},
   "source": [
    "If $X^TX$ is **noninvertible**, the common causes might be having :\n",
    ">- **Redundant features**, where two features are very closely related (i.e. they are linearly dependent)\n",
    ">- **Too many features** (e.g. m ≤ n). In this case, delete some features or use \"regularization\" (to be explained in a later lesson)."
   ]
  },
  {
   "cell_type": "markdown",
   "metadata": {},
   "source": [
    "Solutions to the above problems include deleting a feature that is linearly dependent with another or deleting one or more features when there are too many features."
   ]
  },
  {
   "cell_type": "markdown",
   "metadata": {},
   "source": [
    "# Programming Assignments #"
   ]
  },
  {
   "cell_type": "markdown",
   "metadata": {},
   "source": [
    "# Octave/Matlab Tutorial #"
   ]
  }
 ],
 "metadata": {
  "kernelspec": {
   "display_name": "Python 3",
   "language": "python",
   "name": "python3"
  },
  "language_info": {
   "codemirror_mode": {
    "name": "ipython",
    "version": 3
   },
   "file_extension": ".py",
   "mimetype": "text/x-python",
   "name": "python",
   "nbconvert_exporter": "python",
   "pygments_lexer": "ipython3",
   "version": "3.8.5"
  },
  "toc-autonumbering": true
 },
 "nbformat": 4,
 "nbformat_minor": 4
}

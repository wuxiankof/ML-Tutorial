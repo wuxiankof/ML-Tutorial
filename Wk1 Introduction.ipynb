{
 "cells": [
  {
   "cell_type": "markdown",
   "metadata": {},
   "source": [
    "**Week 1: Introduction**"
   ]
  },
  {
   "cell_type": "markdown",
   "metadata": {},
   "source": [
    "Source: https://www.coursera.org/learn/machine-learning/home/week/1"
   ]
  },
  {
   "cell_type": "markdown",
   "metadata": {},
   "source": [
    "# Introduction #"
   ]
  },
  {
   "cell_type": "markdown",
   "metadata": {},
   "source": [
    "## What is Machine Learning? ##"
   ]
  },
  {
   "cell_type": "markdown",
   "metadata": {},
   "source": [
    "Two definitions of Machine Learning are offered. Arthur Samuel described it as: \"the field of study that gives computers the ability to learn without being explicitly programmed.\" This is an older, informal definition.\n",
    "\n",
    "Tom Mitchell provides a more modern definition: \"A computer program is said to learn from experience $E$ with respect to some class of tasks $T$ and performance measure $P$, if its performance at tasks in $T$, as measured by $P$, improves with experience $E$.\"\n",
    "\n",
    "**Example: playing checkers:**\n",
    ">- $E$ = the experience of playing many games of checkers\n",
    ">- $T$ = the task of playing checkers.\n",
    ">- $P$ = the probability that the program will win the next game.\n",
    "\n",
    "In general, any machine learning problem can be assigned to one of two broad classifications:\n",
    ">- Supervised learning \n",
    ">- Unsupervised learning."
   ]
  },
  {
   "cell_type": "markdown",
   "metadata": {},
   "source": [
    "## Supervised Learning ##"
   ]
  },
  {
   "cell_type": "markdown",
   "metadata": {},
   "source": [
    "In supervised learning, we are given a data set and already know what our correct output should look like, having the idea that there is a relationship between the input and the output.\n",
    "\n",
    "Supervised learning problems are categorized into \"regression\" and \"classification\" problems. In a regression problem, we are trying to predict results within a continuous output, meaning that we are trying to map input variables to some continuous function. In a classification problem, we are instead trying to predict results in a discrete output. In other words, we are trying to map input variables into discrete categories.\n",
    "\n",
    "**Example 1:**\n",
    ">- Given data about the size of houses on the real estate market, try to predict their price. Price as a function of size is a continuous output, so this is a regression problem.\n",
    ">- We could turn this example into a classification problem by instead making our output about whether the house \"sells for more or less than the asking price.\" Here we are classifying the houses based on price into two discrete categories.\n",
    "\n",
    "**Example 2:**\n",
    ">- Regression - Given a picture of a person, we have to predict their age on the basis of the given picture\n",
    ">- Classification - Given a patient with a tumor, we have to predict whether the tumor is malignant."
   ]
  },
  {
   "cell_type": "markdown",
   "metadata": {},
   "source": [
    "## Unsupervised Learning ##"
   ]
  },
  {
   "cell_type": "markdown",
   "metadata": {},
   "source": [
    "Unsupervised learning allows us to approach problems with little or no idea what our results should look like. We can derive structure from data where we don't necessarily know the effect of the variables.\n",
    "\n",
    "We can derive this structure by clustering the data based on relationships among the variables in the data.\n",
    "\n",
    "With unsupervised learning there is no feedback based on the prediction results.\n",
    "\n",
    "**Example:**\n",
    "\n",
    "Clustering: Take a collection of 1,000,000 different genes, and find a way to automatically group these genes into groups that are somehow similar or related by different variables, such as lifespan, location, roles, and so on.\n",
    "\n",
    "Non-clustering: The \"Cocktail Party Algorithm\", allows you to find structure in a chaotic environment. (i.e. identifying individual voices and music from a mesh of sounds at a cocktail party)."
   ]
  },
  {
   "cell_type": "markdown",
   "metadata": {},
   "source": [
    "# Linear Regression with One Variable #"
   ]
  },
  {
   "cell_type": "markdown",
   "metadata": {},
   "source": [
    "## Model and Cost Function ##"
   ]
  },
  {
   "cell_type": "markdown",
   "metadata": {},
   "source": [
    "**Model Representation**"
   ]
  },
  {
   "cell_type": "markdown",
   "metadata": {},
   "source": [
    "To establish notation for future use, we’ll use: \n",
    ">- $ x^{(i)} $ to denote the **“input” variables** (living area in this example), also called input features, and \n",
    ">-$y^{(i)}$ to denote the **“output” or target variable** that we are trying to predict (price). \n",
    "\n",
    ">- A pair $ (x^{(i)} , y^{(i)}) $ is called **a training example**,  \n",
    ">- The dataset that we’ll be using to learn a list of $ m $ training examples ${(x^{(i)} , y^{(i)} ); i = 1, . . . , m}$ is called a **training set**.\n",
    "\n",
    "Note that the superscript **“(i)”** in the notation is simply an **index into the training set**, and has nothing to do with exponentiation. We will also use $ X $ to denote the space of input values, and $Y$ to denote the space of output values. In this example, $X = Y = \\mathbb{R} $.\n",
    "\n",
    "To describe the supervised learning problem slightly more formally, \n",
    "\n",
    "Our goal is, given a training set, to learn **a function $h : X \\rightarrow Y $** so that $ h(x) $ is a “good” **predictor** for the corresponding value of $ y$. For historical reasons, this function $ h $ is called a **hypothesis**. \n",
    "\n",
    "Seen pictorially, the process is therefore like this:"
   ]
  },
  {
   "cell_type": "markdown",
   "metadata": {},
   "source": [
    "![](_Images/ModelRepresentation.png)"
   ]
  },
  {
   "cell_type": "markdown",
   "metadata": {},
   "source": [
    ">- When the target variable that we’re trying to predict is **continuous**, such as in our housing example, we call the learning problem a **regression** problem. \n",
    ">- When y can take on only a small number of **discrete** values (such as if, given the living area, we wanted to predict if a dwelling is a house or an apartment, say), we call it a **classification** problem."
   ]
  },
  {
   "cell_type": "markdown",
   "metadata": {},
   "source": [
    "**Cost Function**"
   ]
  },
  {
   "cell_type": "markdown",
   "metadata": {},
   "source": [
    "We can **measure** the **accuracy of our hypothesis function** by using a **cost function**. This takes an **average difference** (actually a fancier version of an average) of all the results of the hypothesis with inputs from $x$'s and the actual output $y$'s.\n",
    "\n",
    "> $\\widehat{y}^{(i)} = h_\\theta(x^{(i)})=\\theta_0+\\theta_1x^{(i)}$\n",
    "\n",
    "> $J(\\theta_0, \\theta_1)$\n",
    "\n",
    "> $= \\dfrac {1}{2m} \\displaystyle \\sum _{i=1}^m \\left ( \\widehat{y}^{(i)} - y^{(i)} \\right)^2$ \n",
    "\n",
    "> $= \\dfrac{1}{2m} \\displaystyle \\sum _{i=1}^m \\left (h_\\theta (x^{(i)}) - y^{(i)} \\right)^2 $ "
   ]
  },
  {
   "cell_type": "markdown",
   "metadata": {},
   "source": [
    "To break it apart, it is $ \\frac{1}{2}\\bar{x} $ where $ \\bar{x} $ is the **mean of the squares of $ h_\\theta (x^{(i)}) - y^{(i)}$**, or the difference between the predicted value and the actual value.\n",
    "\n",
    "This function is otherwise called the **\"Squared error function\"**, or **\"Mean squared error\"**. The mean is **halved** $ \\left(\\frac{1}{2}\\right) $ as a **convenience** for the computation of the **gradient descent**, as the derivative term of the square function will cancel out the $\\frac{1}{2} $\n",
    "term. The following image summarizes what the cost function does:"
   ]
  },
  {
   "cell_type": "markdown",
   "metadata": {},
   "source": [
    "![](_Images/CostFun_Reg.png)"
   ]
  },
  {
   "cell_type": "markdown",
   "metadata": {},
   "source": [
    "**Cost Function - Intuition I (x-y plane)**"
   ]
  },
  {
   "cell_type": "markdown",
   "metadata": {},
   "source": [
    "If we try to think of it in visual terms, our training data set is scattered on the x-y plane. We are trying to make a straight line (defined by $ h_\\theta(x) $)which passes through these scattered data points.\n",
    "\n",
    "Our objective is to get the best possible line. The best possible line will be such so that <ins>the average squared vertical distances of the scattered points from the line will be the least</ins>. Ideally, the line should pass through all the points of our training data set. In such a case, the value of $ J(\\theta_0, \\theta_1) $ will be 0. The following example shows the <ins>ideal situation</ins> where we have a cost function of 0."
   ]
  },
  {
   "cell_type": "markdown",
   "metadata": {},
   "source": [
    "![](_Images/CostFun_Int1_1.png)"
   ]
  },
  {
   "cell_type": "markdown",
   "metadata": {},
   "source": [
    "When $ \\theta_1 = 1 $, we get a slope of 1 which goes through every single data point in our model. Conversely, when $ \\theta_1 = 0.5 $, we see the vertical distance from our fit to the data points increase."
   ]
  },
  {
   "cell_type": "markdown",
   "metadata": {},
   "source": [
    "![](_Images/CostFun_Int1_2.png)"
   ]
  },
  {
   "cell_type": "markdown",
   "metadata": {},
   "source": [
    "This increases our cost function to 0.58. Plotting several other points yields to the following graph:"
   ]
  },
  {
   "cell_type": "markdown",
   "metadata": {},
   "source": [
    "![](_Images/CostFun_Int1_3.png)"
   ]
  },
  {
   "cell_type": "markdown",
   "metadata": {},
   "source": [
    "Thus as a goal, we should try to minimize the cost function. In this case, $\\theta_1 = 1$ is our global minimum."
   ]
  },
  {
   "cell_type": "markdown",
   "metadata": {},
   "source": [
    "**Cost Function - Intuition II (3D)**"
   ]
  },
  {
   "cell_type": "markdown",
   "metadata": {},
   "source": [
    "A contour plot is a graph that contains many contour lines. <ins>A contour line of a two variable function has a constant value at all points of the same line</ins>. An example of such a graph is the one to the right below."
   ]
  },
  {
   "cell_type": "markdown",
   "metadata": {},
   "source": [
    "![](_Images/CostFun_Int2_1.png)"
   ]
  },
  {
   "cell_type": "markdown",
   "metadata": {},
   "source": [
    "<ins>Taking any color and going along the 'circle', one would expect to get the same value of the cost function</ins>. For example, the three green points found on the green line above have the same value for $J(\\theta_0,\\theta_1)$ and as a result, they are found along the same line. The circled x displays the value of the cost function for the graph on the left when $\\theta_0 = 800$ and $\\theta_1 = -0.15$. \n",
    "\n",
    "Taking another $h(x)$ and plotting its contour plot, one gets the following graphs:"
   ]
  },
  {
   "cell_type": "markdown",
   "metadata": {},
   "source": [
    "![](_Images/CostFun_Int2_2.png)"
   ]
  },
  {
   "cell_type": "markdown",
   "metadata": {},
   "source": [
    "When $ \\theta_0 = 360$ and $\\theta_1 = 0$, the value of $J(\\theta_0,\\theta_1) $in the contour plot gets closer to the center thus reducing the cost function error. \n",
    "\n",
    "Now giving our hypothesis function a slightly positive slope results in a better fit of the data."
   ]
  },
  {
   "cell_type": "markdown",
   "metadata": {},
   "source": [
    "![](_Images/CostFun_Int2_3.png)"
   ]
  },
  {
   "cell_type": "markdown",
   "metadata": {},
   "source": [
    "he graph above minimizes the cost function as much as possible and consequently, the result of $ \\theta_1$ and $\\theta_0$ tend to be around 0.12 and 250 respectively. Plotting those values on our graph to the right seems to put our point in the center of the inner most 'circle'."
   ]
  },
  {
   "cell_type": "markdown",
   "metadata": {},
   "source": [
    "## Parameter Learning ##"
   ]
  },
  {
   "cell_type": "markdown",
   "metadata": {},
   "source": [
    "**Gradient Descent**"
   ]
  },
  {
   "cell_type": "markdown",
   "metadata": {},
   "source": [
    "So we have our hypothesis function and we have a way of measuring how well it fits into the data. Now we need to estimate the parameters in the hypothesis function. That's where gradient descent comes in.\n",
    "\n",
    "Imagine that we graph our hypothesis function based on its fields $ \\theta_0$ and $\\theta_1$ (actually we are graphing the cost function as a function of the parameter estimates). We are not graphing x and y itself, but the **parameter range** of our hypothesis function and the **cost** resulting from selecting a particular set of parameters.\n",
    "\n",
    "<ins>We put $\\theta_0$ on the x axis and $\\theta_1$ on the y axis, with the cost function on the vertical z axis</ins>. The points on our graph will be the result of the cost function using our hypothesis with those specific theta parameters. The graph below depicts such a setup."
   ]
  },
  {
   "cell_type": "markdown",
   "metadata": {},
   "source": [
    "![](_Images/GD1.png)"
   ]
  },
  {
   "cell_type": "markdown",
   "metadata": {},
   "source": [
    "We will know that we have succeeded when our cost function is at the very bottom of the pits in our graph, i.e. when its value is the minimum. The <span style=\"color:red\">red arrows</span> show the minimum points in the graph.\n",
    "\n",
    "The way we do this is by **taking the derivative** (the tangential line to a function) of our cost function. The slope of the tangent is the derivative at that point and it will give us **a direction to move towards**. We make steps down the cost function in the direction **with the steepest descent**. The **size of each step** is determined by the **parameter α**, which is called the **learning rate**.\n",
    "\n",
    "For example, **the distance between each 'star'** in the graph above represents a **step** determined by our parameter α. A smaller α would result in a smaller step and a larger α results in a larger step. The direction in which the step is taken is determined by the partial derivative of $J(\\theta_0,\\theta_1)$. Depending on where one starts on the graph, one could end up at different points. The image above shows us two different starting points that end up in two different places."
   ]
  },
  {
   "cell_type": "markdown",
   "metadata": {},
   "source": [
    "The gradient descent algorithm is:\n",
    "\n",
    "repeat until convergence:\n",
    "\n",
    "> $\\theta_j := \\theta_j - \\alpha \\dfrac{\\partial}{\\partial \\theta_j} J(\\theta_0, \\theta_1)$\n",
    "\n",
    "where\n",
    "\n",
    "j=0,1 represents the **feature index number**."
   ]
  },
  {
   "cell_type": "markdown",
   "metadata": {},
   "source": [
    "At each iteration j, one should **simultaneously update the parameters** $ \\theta_1, \\theta_2,...,\\theta_n$. Updating a specific parameter prior to calculating another one on the $j^{(th)}$ iteration would yield to a wrong implementation."
   ]
  },
  {
   "cell_type": "markdown",
   "metadata": {},
   "source": [
    "![](_Images/GD2.png)"
   ]
  },
  {
   "cell_type": "markdown",
   "metadata": {},
   "source": [
    "**Gradient Descent Intuition**"
   ]
  },
  {
   "cell_type": "markdown",
   "metadata": {},
   "source": [
    "In this video we explored the scenario where we used **one parameter** $\\theta_1$ and plotted its cost function to implement a gradient descent. Our formula for a single parameter was :\n",
    "\n",
    "Repeat until convergence:\n",
    "\n",
    "> $\\theta_1:=\\theta_1-\\alpha \\dfrac{d}{d\\theta_1} J(\\theta_1)$\n",
    "\n",
    "Regardless of the slope's sign for $\\dfrac{d}{d\\theta_1} J(\\theta_1), \\theta_1 $eventually converges to its minimum value. The following graph shows that when the slope is negative, the value of $\\theta_1$ increases and when it is positive, the value of $\\theta_1$ decreases."
   ]
  },
  {
   "cell_type": "markdown",
   "metadata": {},
   "source": [
    "![](_Images/GD_Int1.png)"
   ]
  },
  {
   "cell_type": "markdown",
   "metadata": {},
   "source": [
    "On a side note, we should adjust our parameter $\\alpha$ to ensure that the gradient descent algorithm converges in a reasonable time. Failure to converge or too much time to obtain the minimum value imply that our step size is wrong."
   ]
  },
  {
   "cell_type": "markdown",
   "metadata": {},
   "source": [
    "![](_Images/GD_Int2.png)"
   ]
  },
  {
   "cell_type": "markdown",
   "metadata": {},
   "source": [
    "How does gradient descent **converge** with a fixed step size $\\alpha$?\n",
    "\n",
    "> The intuition behind the convergence is that $\\dfrac{d}{d\\theta_1} J(\\theta_1)$ approaches 0 as we **approach the bottom of our convex function**. At the minimum, the derivative will always be 0 and thus we get:\n",
    ">- $\\theta_1:=\\theta_1-\\alpha * 0$"
   ]
  },
  {
   "cell_type": "markdown",
   "metadata": {},
   "source": [
    "![](_Images/GD_Int3.png)"
   ]
  },
  {
   "cell_type": "markdown",
   "metadata": {},
   "source": [
    "**Gradient Descent For Linear regression**"
   ]
  },
  {
   "cell_type": "markdown",
   "metadata": {},
   "source": [
    "When specifically applied to the case of linear regression, a new form of the gradient descent equation can be derived. We can substitute our **actual cost function** and our **actual hypothesis function** and modify the equation to:\n",
    "\n",
    "repeat until convergence: \n",
    "> $\\theta_0:=\\theta_0 - \\alpha \\displaystyle\\frac{1}{m}\\sum_{i=1}^m(h_\\theta(x_i)-y_i) $ <br>\n",
    "> $\\theta_1:=\\theta_1 - \\alpha \\displaystyle\\frac{1}{m}\\sum_{i=1}^m[(h_\\theta(x_i)-y_i)x_i] $\n",
    "\n",
    "where: \n",
    "> $m$ is the size of the training set, <br>\n",
    "> $\\theta_0$ is a constant that will be changing simultaneously with $ \\theta_1$ and <br> \n",
    "> $x_{i}, y_{i}$ are values of the given training set (data).\n",
    "\n",
    "Note that we have separated out the two cases for $\\theta_j$ into separate equations for $\\theta_0$ and $\\theta_1$; and that for $\\theta_1$ we are multiplying $x_{i}$ at the end due to the derivative. The following is a derivation of $\\dfrac {\\partial}{\\partial \\theta_j}J(\\theta)$ for a single example :"
   ]
  },
  {
   "cell_type": "markdown",
   "metadata": {},
   "source": [
    "![](_Images/GD_Linear1.png)"
   ]
  },
  {
   "cell_type": "markdown",
   "metadata": {},
   "source": [
    "Reference: <br>\n",
    "> $J(\\theta_0, \\theta_1) = \\dfrac {1}{2m} \\displaystyle \\sum _{i=1}^m \\left ( \\hat{y}_{i}- y_{i} \\right)^2 = \\dfrac {1}{2m} \\displaystyle \\sum _{i=1}^m \\left (h_\\theta (x_{i}) - y_{i} \\right)^2$<br>\n",
    "> $\\theta_j := \\theta_j - \\alpha \\dfrac{\\partial}{\\partial \\theta_j} J(\\theta_0, \\theta_1)$"
   ]
  },
  {
   "cell_type": "markdown",
   "metadata": {},
   "source": [
    "The point of all this is that if we **start with a guess for our hypothesis** and then repeatedly apply these gradient descent equations, our hypothesis will become more and more **accurate**.\n",
    "\n",
    "So, this is simply gradient descent on the original cost function J. This method looks at every example in the entire training set on every step, and is called **batch gradient descent**. Note that, while gradient descent can be susceptible to local minima in general, the optimization problem we have posed here for **linear regression has only one global, and no other local, optima**; thus gradient descent always converges (assuming the learning rate α is not too large) to the global minimum. Indeed, **J is a convex quadratic function**. Here is an example of gradient descent as it is run to minimize a quadratic function."
   ]
  },
  {
   "cell_type": "markdown",
   "metadata": {},
   "source": [
    "![](_Images/GD_Linear2.png)"
   ]
  },
  {
   "cell_type": "markdown",
   "metadata": {},
   "source": [
    "The ellipses shown above are the contours of a quadratic function. Also shown is the trajectory taken by gradient descent, which was initialized at (48,30). The x’s in the figure (joined by straight lines) mark the successive values of θ that gradient descent went through as it converged to its minimum."
   ]
  },
  {
   "cell_type": "markdown",
   "metadata": {},
   "source": [
    "# Linear Algebra Review #"
   ]
  },
  {
   "cell_type": "markdown",
   "metadata": {
    "toc-hr-collapsed": true,
    "toc-nb-collapsed": true
   },
   "source": [
    "## Matrices and Vectors ##"
   ]
  },
  {
   "cell_type": "markdown",
   "metadata": {},
   "source": [
    "Matrices are 2-dimensional arrays:\n",
    "\n",
    "> $\\begin{bmatrix} a & b & c \\\\ d & e & f \\\\ g & h & i \\\\ j & k & l\\end{bmatrix}$\n",
    "\n",
    "The above matrix has four rows and three columns, so it is a 4 x 3 matrix."
   ]
  },
  {
   "cell_type": "code",
   "execution_count": null,
   "metadata": {},
   "outputs": [],
   "source": [
    "import numpy as np"
   ]
  },
  {
   "cell_type": "code",
   "execution_count": null,
   "metadata": {
    "scrolled": true
   },
   "outputs": [],
   "source": [
    "# The ; denotes we are going back to a new row.\n",
    "A = np.array(\n",
    "    [[1, 2, 3], \n",
    "     [4, 5, 6], \n",
    "     [7, 8, 9], \n",
    "     [10, 11, 12]])\n",
    "print (A)"
   ]
  },
  {
   "cell_type": "code",
   "execution_count": null,
   "metadata": {},
   "outputs": [],
   "source": [
    "# Get the dimension of the matrix A where m = rows and n = columns\n",
    "(m,n) = A.shape\n",
    "print(m, n)"
   ]
  },
  {
   "cell_type": "code",
   "execution_count": null,
   "metadata": {},
   "outputs": [],
   "source": [
    "# You could also store it this way\n",
    "dim_A = A.shape\n",
    "print (dim_A)"
   ]
  },
  {
   "cell_type": "code",
   "execution_count": null,
   "metadata": {},
   "outputs": [],
   "source": [
    "# Now let's index into the 2nd row 3rd column of matrix A\n",
    "A_23 = A[1, 2]\n",
    "print (A_23)"
   ]
  },
  {
   "cell_type": "markdown",
   "metadata": {},
   "source": [
    "A vector is a matrix with one column and many rows:\n",
    "\n",
    "> $\\begin{bmatrix} w \\\\ x \\\\ y \\\\ z\\end{bmatrix}$\n",
    "\n",
    "So vectors are a subset of matrices. The above vector is a 4 x 1 matrix."
   ]
  },
  {
   "cell_type": "code",
   "execution_count": null,
   "metadata": {},
   "outputs": [],
   "source": [
    "# Initialize a vector \n",
    "v = np.array([1,2,3])\n",
    "v = v.reshape(3, -1)\n",
    "print (v)"
   ]
  },
  {
   "cell_type": "code",
   "execution_count": null,
   "metadata": {},
   "outputs": [],
   "source": [
    "# Get the dimension of the vector v \n",
    "dim_v = v.shape\n",
    "print (dim_v)"
   ]
  },
  {
   "cell_type": "markdown",
   "metadata": {},
   "source": [
    "Notation and terms:\n",
    "\n",
    ">- $A_{ij}$ refers to the element in the ith row and jth column of matrix A.\n",
    ">- A vector with 'n' rows is referred to as an 'n'-dimensional vector.\n",
    ">- $v_i$ refers to the element in the $i^{th}$ row of the vector.\n",
    ">- In general, all our vectors and matrices will be 1-indexed. Note that for some programming languages, the arrays are 0-indexed.\n",
    ">- **Matrices** are usually denoted by **uppercase** names while **vectors** are **lowercase**.\n",
    ">- **\"Scalar\"** means that an object is a **single value**, not a vector or matrix.\n",
    ">- $\\mathbb{R}$ refers to the set of scalar real numbers. (**1-dimensional**)\n",
    ">- $\\mathbb{R^n}$ refers to the set of n-dimensional vectors of real numbers.\n",
    "\n",
    "Run the cell below to get familiar with the commands in Octave/Matlab. Feel free to create matrices and vectors and try out different things."
   ]
  },
  {
   "cell_type": "markdown",
   "metadata": {},
   "source": [
    "## Addition and Scalar Multiplication ##"
   ]
  },
  {
   "cell_type": "code",
   "execution_count": null,
   "metadata": {},
   "outputs": [],
   "source": [
    "# Initialize matrix A and B \n",
    "A = np.array([[1, 2, 4], [5, 3, 2]])\n",
    "B = np.array([[1, 3, 4], [1, 1, 1]])\n",
    "print ('A=')\n",
    "print (A)\n",
    "print ('B=')\n",
    "print (B)"
   ]
  },
  {
   "cell_type": "markdown",
   "metadata": {},
   "source": [
    "Addition and subtraction are **element-wise**, so you simply add or subtract each corresponding element:\n",
    "> $\\begin{bmatrix} a & b \\\\ c & d \\end{bmatrix} + \\begin{bmatrix} w & x \\\\ y & z \\end{bmatrix} = \\begin{bmatrix} a+w & b+x \\\\ c+y & d+z \\end{bmatrix}$"
   ]
  },
  {
   "cell_type": "code",
   "execution_count": null,
   "metadata": {},
   "outputs": [],
   "source": [
    "# See how element-wise addition works\n",
    "add_AB = A + B \n",
    "print ('add_AB=')\n",
    "print (add_AB)"
   ]
  },
  {
   "cell_type": "markdown",
   "metadata": {},
   "source": [
    "Subtracting Matrices:\n",
    "> $\\begin{bmatrix} a & b \\\\ c & d \\end{bmatrix} - \\begin{bmatrix} w & x \\\\ y & z \\end{bmatrix} = \\begin{bmatrix} a-w & b-x \\\\ c-y & d-z \\end{bmatrix}$"
   ]
  },
  {
   "cell_type": "code",
   "execution_count": null,
   "metadata": {},
   "outputs": [],
   "source": [
    "# See how element-wise subtraction works\n",
    "sub_AB = A - B\n",
    "print ('sub_AB=')\n",
    "print (sub_AB)"
   ]
  },
  {
   "cell_type": "markdown",
   "metadata": {},
   "source": [
    "To add or subtract two matrices, their dimensions must be **the same**."
   ]
  },
  {
   "cell_type": "markdown",
   "metadata": {},
   "source": [
    "In **scalar multiplication**, we simply multiply every element by the scalar value:\n",
    "> $\\begin{bmatrix} a & b \\\\ c & d \\end{bmatrix} * x = \\begin{bmatrix} a* x & b* x \\\\ c* x & d* x \\end{bmatrix} $"
   ]
  },
  {
   "cell_type": "code",
   "execution_count": null,
   "metadata": {},
   "outputs": [],
   "source": [
    "# Initialize constant s \n",
    "s = 2\n",
    "print ('s=',s)"
   ]
  },
  {
   "cell_type": "code",
   "execution_count": null,
   "metadata": {},
   "outputs": [],
   "source": [
    "# See how scalar multiplication works\n",
    "mult_As = A * s\n",
    "print ('mult_As=')\n",
    "print (mult_As)"
   ]
  },
  {
   "cell_type": "markdown",
   "metadata": {},
   "source": [
    "In **scalar division**, we simply divide every element by the scalar value:\n",
    "> $\\begin{bmatrix} a & b \\\\ c & d \\end{bmatrix} / x = \\begin{bmatrix} a/x & b/x \\\\ c/x & d/x \\end{bmatrix} $"
   ]
  },
  {
   "cell_type": "code",
   "execution_count": null,
   "metadata": {},
   "outputs": [],
   "source": [
    "# Divide A by s\n",
    "div_As = A / s\n",
    "print ('div_As=')\n",
    "print (div_As)"
   ]
  },
  {
   "cell_type": "markdown",
   "metadata": {},
   "source": [
    "Experiment below with the Octave/Matlab commands for matrix addition and scalar multiplication. Feel free to try out different commands. Try to write out your answers for each command before running the cell below."
   ]
  },
  {
   "cell_type": "code",
   "execution_count": null,
   "metadata": {},
   "outputs": [],
   "source": [
    "print (A)\n",
    "print (s)"
   ]
  },
  {
   "cell_type": "code",
   "execution_count": null,
   "metadata": {},
   "outputs": [],
   "source": [
    "# What happens if we have a Matrix + scalar?\n",
    "add_As = A + s\n",
    "print ('add_As=')\n",
    "print (add_As)"
   ]
  },
  {
   "cell_type": "markdown",
   "metadata": {},
   "source": [
    "## Matrix Vector Multiplication ##"
   ]
  },
  {
   "cell_type": "markdown",
   "metadata": {},
   "source": [
    "We map the column of the vector onto each row of the matrix, multiplying each element and summing the result.\n",
    "> $\\begin{bmatrix} a & b \\\\ c & d \\\\ e & f \\end{bmatrix} * \\begin{bmatrix} x \\\\ y \\end{bmatrix} = \\begin{bmatrix} a*x +b*y \\\\ c*x + d*y \\\\ e*x + f*y \\end{bmatrix} $"
   ]
  },
  {
   "cell_type": "markdown",
   "metadata": {},
   "source": [
    "The result is a **vector**. The number of **columns** of the matrix must equal the number of **rows** of the vector.\n",
    "\n",
    "An **m x n matrix** multiplied by an **n x 1 vector** results in an **m x 1 vector**.\n",
    "\n",
    "Below is an example of a matrix-vector multiplication. Make sure you understand how the multiplication works. Feel free to try different matrix-vector multiplications."
   ]
  },
  {
   "cell_type": "code",
   "execution_count": null,
   "metadata": {},
   "outputs": [],
   "source": [
    "# Initialize matrix A \n",
    "A = np.array([[1, 2, 3], [4, 5, 6], [7, 8, 9]])\n",
    "print (A)"
   ]
  },
  {
   "cell_type": "code",
   "execution_count": null,
   "metadata": {},
   "outputs": [],
   "source": [
    "# Initialize vector v \n",
    "v = np.array([[1], [1], [1]])\n",
    "print (v)"
   ]
  },
  {
   "cell_type": "code",
   "execution_count": null,
   "metadata": {},
   "outputs": [],
   "source": [
    "# Multiply A * v\n",
    "Av = A * v\n",
    "print ('A * v')\n",
    "print (Av)"
   ]
  },
  {
   "cell_type": "code",
   "execution_count": null,
   "metadata": {},
   "outputs": [],
   "source": [
    "Av = np.dot(A,v)\n",
    "print ('np.dot(A,v)')\n",
    "print (Av)"
   ]
  },
  {
   "cell_type": "markdown",
   "metadata": {},
   "source": [
    "## Matrix-Matrix Multiplication ##"
   ]
  },
  {
   "cell_type": "markdown",
   "metadata": {},
   "source": [
    "We multiply two matrices by breaking it into several vector multiplications and concatenating the result.\n",
    "> $\\begin{bmatrix} a & b \\\\ c & d \\\\ e & f \\end{bmatrix} * \\begin{bmatrix} w & x \\\\ y & z \\end{bmatrix} = \\begin{bmatrix} a*w+b*y & a*x+b*z \\\\ c*w+d*y & c*x+d*z \\\\ e*w+f*y & e*x+f*z \\end{bmatrix} $"
   ]
  },
  {
   "cell_type": "markdown",
   "metadata": {},
   "source": [
    "An **m x n matrix** multiplied by an **n x o matrix** results in an **m x o matrix**. In the above example, a 3 x 2 matrix times a 2 x 2 matrix resulted in a 3 x 2 matrix.\n",
    "\n",
    "To multiply two matrices, the number of **columns** of the first matrix must equal the number of **rows** of the second matrix.\n",
    "\n",
    "For example:"
   ]
  },
  {
   "cell_type": "code",
   "execution_count": null,
   "metadata": {},
   "outputs": [],
   "source": [
    "# Initialize a 3 by 2 matrix \n",
    "A = np.array([[1, 2], [3, 4], [5, 6]])\n",
    "print (A)"
   ]
  },
  {
   "cell_type": "code",
   "execution_count": null,
   "metadata": {},
   "outputs": [],
   "source": [
    "# Initialize a 2 by 1 matrix \n",
    "B = np.array([[1], [2]])\n",
    "print (B)"
   ]
  },
  {
   "cell_type": "code",
   "execution_count": null,
   "metadata": {},
   "outputs": [],
   "source": [
    "# We expect a resulting matrix of (3 by 2)*(2 by 1) = (3 by 1) \n",
    "mult_AB = np.dot(A,B)\n",
    "print (mult_AB)\n",
    "\n",
    "# Make sure you understand why we got that result"
   ]
  },
  {
   "cell_type": "markdown",
   "metadata": {},
   "source": [
    "## Matrix Multiplication Properties ##"
   ]
  },
  {
   "cell_type": "markdown",
   "metadata": {},
   "source": [
    ">- Matrices are not commutative: $A*B \\neq B*A$\n",
    ">- Matrices are associative: $(A*B)*C = A*(B*C)$"
   ]
  },
  {
   "cell_type": "markdown",
   "metadata": {},
   "source": [
    "The **identity matrix**, when multiplied by any matrix of the same dimensions, results in the original matrix. It's just like multiplying numbers by 1. The identity matrix simply has 1's on the diagonal (upper left to lower right diagonal) and 0's elsewhere.\n",
    "> $\\begin{bmatrix} 1 & 0 & 0 \\\\ 0 & 1 & 0 \\\\ 0 & 0 & 1 \\end{bmatrix}$"
   ]
  },
  {
   "cell_type": "markdown",
   "metadata": {},
   "source": [
    "When multiplying the identity matrix after some matrix (A∗I), the square identity matrix's dimension should match the other matrix's **columns**. When multiplying the identity matrix before some other matrix (I∗A), the square identity matrix's dimension should match the other matrix's **rows**."
   ]
  },
  {
   "cell_type": "code",
   "execution_count": null,
   "metadata": {},
   "outputs": [],
   "source": [
    "# Initialize random matrices A and B \n",
    "A = np.array([[1,2],[4,5]])\n",
    "print (A)"
   ]
  },
  {
   "cell_type": "code",
   "execution_count": null,
   "metadata": {},
   "outputs": [],
   "source": [
    "B = np.array([[1,1],[0,2]])\n",
    "print (B)"
   ]
  },
  {
   "cell_type": "code",
   "execution_count": null,
   "metadata": {},
   "outputs": [],
   "source": [
    "# Initialize a 2 by 2 identity matrix\n",
    "I = np.identity(2)\n",
    "print (I)"
   ]
  },
  {
   "cell_type": "code",
   "execution_count": null,
   "metadata": {},
   "outputs": [],
   "source": [
    "# What happens when we multiply I*A ? \n",
    "IA = np.dot(I, A) \n",
    "print (IA)"
   ]
  },
  {
   "cell_type": "code",
   "execution_count": null,
   "metadata": {},
   "outputs": [],
   "source": [
    "# How about A*I ? \n",
    "AI = np.dot(A, I) \n",
    "print (AI)"
   ]
  },
  {
   "cell_type": "code",
   "execution_count": null,
   "metadata": {},
   "outputs": [],
   "source": [
    "# Compute A*B \n",
    "AB = np.dot(A, B) \n",
    "print (AB)"
   ]
  },
  {
   "cell_type": "code",
   "execution_count": null,
   "metadata": {},
   "outputs": [],
   "source": [
    "# Note that IA = AI but AB != BA\n",
    "BA = np.dot(B, A) \n",
    "print (BA)"
   ]
  },
  {
   "cell_type": "markdown",
   "metadata": {},
   "source": [
    "## Inverse and Transpose ##"
   ]
  },
  {
   "cell_type": "markdown",
   "metadata": {},
   "source": [
    "The **inverse** of a matrix $A$ is denoted $A^{-1}$. **Multiplying by the inverse** results in the **identity matrix**.\n",
    "\n",
    "A **non square matrix** does **not have an inverse matrix**. We can compute inverses of matrices in octave with the pinv(A) function and in Matlab with the inv(A) function. Matrices that don't have an inverse are **singular or degenerate 退化**.\n",
    "\n",
    "The **transposition** of a matrix is like rotating the matrix 90° in clockwise direction and then reversing it. We can compute transposition of matrices in matlab with the transpose(A) function or A'\n",
    "> $A=\\begin{bmatrix} a & b \\\\ c & d \\\\ e & f \\end{bmatrix}$<br><br>\n",
    "> $A^T=\\begin{bmatrix} a & c & e \\\\ b & d & f \\end{bmatrix}$"
   ]
  },
  {
   "cell_type": "code",
   "execution_count": null,
   "metadata": {},
   "outputs": [],
   "source": [
    "# Initialize matrix A \n",
    "A = np.array([[1,2,0],[0,5,6],[7,0,9]])\n",
    "print (A)"
   ]
  },
  {
   "cell_type": "code",
   "execution_count": null,
   "metadata": {},
   "outputs": [],
   "source": [
    "# Transpose A \n",
    "A_trans = A.T\n",
    "print (A_trans)"
   ]
  },
  {
   "cell_type": "code",
   "execution_count": null,
   "metadata": {},
   "outputs": [],
   "source": [
    "# Take the inverse of A \n",
    "A_inv = np.linalg.inv(A)\n",
    "print (A_inv)"
   ]
  },
  {
   "cell_type": "code",
   "execution_count": null,
   "metadata": {},
   "outputs": [],
   "source": [
    "# What is A^(-1)*A? \n",
    "A_invA = np.dot(np.linalg.inv(A), A)\n",
    "print (A_invA)"
   ]
  }
 ],
 "metadata": {
  "kernelspec": {
   "display_name": "Python 3",
   "language": "python",
   "name": "python3"
  },
  "language_info": {
   "codemirror_mode": {
    "name": "ipython",
    "version": 3
   },
   "file_extension": ".py",
   "mimetype": "text/x-python",
   "name": "python",
   "nbconvert_exporter": "python",
   "pygments_lexer": "ipython3",
   "version": "3.8.5"
  }
 },
 "nbformat": 4,
 "nbformat_minor": 4
}
